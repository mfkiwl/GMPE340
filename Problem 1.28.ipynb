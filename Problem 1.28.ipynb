{
 "cells": [
  {
   "cell_type": "markdown",
   "metadata": {},
   "source": [
    "# Solution {-}\n",
    "The random variable $X$ is completely described by its mean and covariance matrix:\n",
    "\\begin{equation*}\n",
    "  \\mu=\n",
    "  \\begin{bmatrix}\n",
    "    1 \\\\\n",
    "    2 \\\\\n",
    "  \\end{bmatrix} \\quad\n",
    "  C_X=\n",
    "  \\begin{bmatrix}\n",
    "    4 &1\\\\\n",
    "    1 &1\\\\\n",
    "  \\end{bmatrix}\n",
    "\\end{equation*}\n",
    "\n",
    "Now consider another random variable $Y$ that is functionally related to $X$ by:\n",
    "\\begin{equation*}\n",
    "  y=Ax+b\n",
    "\\end{equation*}\n",
    "\n",
    "where\n",
    "\\begin{equation*}\n",
    "  A=\n",
    "  \\begin{bmatrix}\n",
    "    2 &1\\\\\n",
    "    1 &-1\\\\\n",
    "  \\end{bmatrix} \\quad\n",
    "  b=\n",
    "  \\begin{bmatrix}\n",
    "    1\\\\\n",
    "    1\\\\\n",
    "  \\end{bmatrix}\n",
    "\\end{equation*}\n",
    "\n",
    "Find the mean and the covariance matrix for $Y$:"
   ]
  },
  {
   "cell_type": "code",
   "execution_count": 1,
   "metadata": {},
   "outputs": [
    {
     "data": {
      "text/latex": [
       "$\\displaystyle \\left[\\begin{matrix}5\\\\0\\end{matrix}\\right]$"
      ],
      "text/plain": [
       "Matrix([\n",
       "[5],\n",
       "[0]])"
      ]
     },
     "metadata": {},
     "output_type": "display_data"
    },
    {
     "data": {
      "text/latex": [
       "$\\displaystyle \\left[\\begin{matrix}21 & 6\\\\6 & 3\\end{matrix}\\right]$"
      ],
      "text/plain": [
       "Matrix([\n",
       "[21, 6],\n",
       "[ 6, 3]])"
      ]
     },
     "metadata": {},
     "output_type": "display_data"
    }
   ],
   "source": [
    "from sympy import Matrix\n",
    "\n",
    "mx = Matrix([[1],\n",
    "             [2]])\n",
    "Cx = Matrix([[4, 1],\n",
    "             [1, 1]])\n",
    "\n",
    "A = Matrix([[2,  1],\n",
    "            [1, -1]])\n",
    "b = Matrix([[1],\n",
    "            [1]])\n",
    "        \n",
    "my = A@mx + b\n",
    "Cy = A@Cx@A.T\n",
    "\n",
    "display(my)\n",
    "display(Cy)"
   ]
  }
 ],
 "metadata": {
  "kernelspec": {
   "display_name": "Python 3",
   "language": "python",
   "name": "python3"
  },
  "language_info": {
   "codemirror_mode": {
    "name": "ipython",
    "version": 3
   },
   "file_extension": ".py",
   "mimetype": "text/x-python",
   "name": "python",
   "nbconvert_exporter": "python",
   "pygments_lexer": "ipython3",
   "version": "3.9.1"
  }
 },
 "nbformat": 4,
 "nbformat_minor": 4
}
