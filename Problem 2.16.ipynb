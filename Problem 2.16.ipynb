{
 "cells": [
  {
   "cell_type": "markdown",
   "metadata": {},
   "source": [
    "## Solution {-}\n",
    "\n",
    "\\begin{equation}\n",
    "  S_X(j\\omega) = \\frac{1}{(\\omega^2 + 1)^2}\n",
    "\\end{equation}\n",
    "\n",
    "Rewrite PSD in s-domain:\n",
    "\n",
    "\\begin{equation}\n",
    "  S_X(s) = \\frac{1}{(-s^2 + 1)^2}\n",
    "\\end{equation}\n",
    "\n",
    "PSD can be written as:\n",
    "\n",
    "\\begin{equation}\n",
    "  S_X = \\frac{As + B}{(s+1)^2} + \\frac{Cs + D}{(-s + 1)^2}\n",
    "\\end{equation}\n",
    "\n",
    "Rewrite PSD again as partial fractions:\n",
    "\n",
    "\\begin{equation}\n",
    "  S_X = \\frac{C_1}{(s+1)^2} + \\frac{C_2}{(s + 1)} + \\frac{C_3}{(-s + 1)^2} + \\frac{C_4}{(-s + 1)}\n",
    "\\end{equation}\n",
    "\n",
    "Solve positive time part, i.e. $C_1$ and $C_2$:\n",
    "\n",
    "\\begin{align}\n",
    "  C_1 =& \\frac{1}{(s + 1)^2 (-s + 1)^2} (s + 1)^2 = \\frac{1}{4}\\\\\n",
    "  C_2 =& \\frac{d}{ds} [\\frac{1}{(s + 1)^2 (-s + 1)^2} (s + 1)^2] = \\frac{1}{4}\\\\\n",
    "\\end{align}\n",
    "\n",
    "Autocorrelation function $X(t)$:\n",
    "\n",
    "\\begin{equation}\n",
    "  R_X(\\tau) = \\frac{1}{4}|\\tau| e^{-|\\tau|} + \\frac{1}{4} e^{-|\\tau|}\n",
    "\\end{equation}"
   ]
  },
  {
   "cell_type": "code",
   "execution_count": 1,
   "metadata": {},
   "outputs": [
    {
     "data": {
      "text/latex": [
       "$\\displaystyle - \\frac{\\pi \\left(2 \\pi \\tau \\sinh{\\left(2 \\pi \\tau \\right)} - 2 \\pi \\tau \\cosh{\\left(2 \\pi \\tau \\right)} + \\sinh{\\left(2 \\pi \\tau \\right)} - \\cosh{\\left(2 \\pi \\tau \\right)}\\right)}{2}$"
      ],
      "text/plain": [
       "-pi*(2*pi*tau*sinh(2*pi*tau) - 2*pi*tau*cosh(2*pi*tau) + sinh(2*pi*tau) - cosh(2*pi*tau))/2"
      ]
     },
     "execution_count": 1,
     "metadata": {},
     "output_type": "execute_result"
    }
   ],
   "source": [
    "from sympy import symbols, inverse_fourier_transform\n",
    "\n",
    "w, t = symbols('omega tau')\n",
    "\n",
    "# Given Spectral Density Function\n",
    "Sx = 1/(1 + w**2)**2\n",
    "\n",
    "Rx = inverse_fourier_transform(Sx, w, t)\n",
    "Rx"
   ]
  }
 ],
 "metadata": {
  "kernelspec": {
   "display_name": "Python 3",
   "language": "python",
   "name": "python3"
  },
  "language_info": {
   "codemirror_mode": {
    "name": "ipython",
    "version": 3
   },
   "file_extension": ".py",
   "mimetype": "text/x-python",
   "name": "python",
   "nbconvert_exporter": "python",
   "pygments_lexer": "ipython3",
   "version": "3.9.1"
  }
 },
 "nbformat": 4,
 "nbformat_minor": 4
}
