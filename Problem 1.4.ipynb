{
 "cells": [
  {
   "cell_type": "markdown",
   "metadata": {},
   "source": [
    "# Solution {-}\n",
    "\n",
    "In a simple dice game three dice are rolled simultaneously and we are interested in the sum of dots in any given roll.\n",
    "\n",
    "1. What is the probability of the sum being 3?\n",
    "2. What is the probability of the sum being 4?\n",
    "3. What is the probability of the sum being 3 or 4?"
   ]
  },
  {
   "cell_type": "code",
   "execution_count": 1,
   "metadata": {},
   "outputs": [
    {
     "name": "stdout",
     "output_type": "stream",
     "text": [
      "The probability of the sum being 3 is: 0.004630 (0.46%)\n",
      "The probability of the sum being 4 is: 0.013889 (1.39%)\n",
      "The probability of the sum being 3 or 4 is: 0.018519 (1.85%)\n"
     ]
    }
   ],
   "source": [
    "from itertools import product\n",
    "\n",
    "possible_rolls = {1, 2, 3, 4, 5, 6}\n",
    "\n",
    "sample_space = set(product(possible_rolls, repeat=3))\n",
    "\n",
    "def get_event(event_condition, sample_space):\n",
    "    return set([outcome for outcome in sample_space\n",
    "                if event_condition(outcome)])\n",
    "\n",
    "def compute_event_probability(event_condition, generic_sample_space):\n",
    "    event = get_event(event_condition, generic_sample_space)\n",
    "    if type(generic_sample_space) == type(set()):\n",
    "        return len(event) / len(generic_sample_space)\n",
    "\n",
    "    event_size = sum(generic_sample_space[outcome]\n",
    "                     for outcome in event)\n",
    "    return event_size / sum(generic_sample_space.values())\n",
    "\n",
    "def has_sum_3(outcome):\n",
    "    return sum(outcome) == 3\n",
    "\n",
    "def has_sum_4(outcome):\n",
    "    return sum(outcome) == 4\n",
    "\n",
    "prob3 = compute_event_probability(has_sum_3, sample_space)\n",
    "prob4 = compute_event_probability(has_sum_4, sample_space)\n",
    "\n",
    "print(\"The probability of the sum being 3 is: %.6f (%.2f%%)\" % (prob3, prob3*100))\n",
    "print(\"The probability of the sum being 4 is: %.6f (%.2f%%)\" % (prob4, prob4*100))\n",
    "print(\"The probability of the sum being 3 or 4 is: %.6f (%.2f%%)\" % (prob3 + prob4, (prob3 + prob4)*100))"
   ]
  }
 ],
 "metadata": {
  "kernelspec": {
   "display_name": "Python 3",
   "language": "python",
   "name": "python3"
  },
  "language_info": {
   "codemirror_mode": {
    "name": "ipython",
    "version": 3
   },
   "file_extension": ".py",
   "mimetype": "text/x-python",
   "name": "python",
   "nbconvert_exporter": "python",
   "pygments_lexer": "ipython3",
   "version": "3.9.1"
  }
 },
 "nbformat": 4,
 "nbformat_minor": 4
}
