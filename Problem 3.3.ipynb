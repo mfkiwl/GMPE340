{
 "cells": [
  {
   "cell_type": "markdown",
   "id": "c549c101-56a5-4962-942f-6ca4422f8ccc",
   "metadata": {},
   "source": [
    "# Solution {-}\n",
    "Factor spectral density function $S(s)$:"
   ]
  },
  {
   "cell_type": "code",
   "execution_count": 1,
   "id": "a309ebe4-540b-47f4-aaf8-3ce20eb66ac6",
   "metadata": {},
   "outputs": [
    {
     "data": {
      "text/latex": [
       "$\\displaystyle \\frac{2 \\beta \\sigma^{2}}{\\left(K - s\\right) \\left(K + s\\right) \\left(\\beta^{2} - s^{2}\\right)}$"
      ],
      "text/plain": [
       "2*beta*sigma**2/((K - s)*(K + s)*(beta**2 - s**2))"
      ]
     },
     "execution_count": 1,
     "metadata": {},
     "output_type": "execute_result"
    }
   ],
   "source": [
    "from sympy import symbols, factor\n",
    "\n",
    "s, sigma, beta, K = symbols('s sigma beta K')\n",
    "\n",
    "Sx = 1/(s + K)*1/(-s + K)*(2*sigma**2*beta)/(-s**2 + beta**2)\n",
    "Sx"
   ]
  },
  {
   "cell_type": "code",
   "execution_count": 2,
   "id": "6bb86c2b-0730-49b2-8e3d-a270cce70768",
   "metadata": {},
   "outputs": [
    {
     "data": {
      "text/latex": [
       "$\\displaystyle \\frac{2 \\beta \\sigma^{2}}{\\left(- K + s\\right) \\left(K + s\\right) \\left(- \\beta + s\\right) \\left(\\beta + s\\right)}$"
      ],
      "text/plain": [
       "2*beta*sigma**2/((-K + s)*(K + s)*(-beta + s)*(beta + s))"
      ]
     },
     "execution_count": 2,
     "metadata": {},
     "output_type": "execute_result"
    }
   ],
   "source": [
    "factor(Sx, s)"
   ]
  }
 ],
 "metadata": {
  "kernelspec": {
   "display_name": "Python 3",
   "language": "python",
   "name": "python3"
  },
  "language_info": {
   "codemirror_mode": {
    "name": "ipython",
    "version": 3
   },
   "file_extension": ".py",
   "mimetype": "text/x-python",
   "name": "python",
   "nbconvert_exporter": "python",
   "pygments_lexer": "ipython3",
   "version": "3.9.1"
  }
 },
 "nbformat": 4,
 "nbformat_minor": 5
}
