{
 "cells": [
  {
   "cell_type": "markdown",
   "metadata": {},
   "source": [
    "# Solution {-}\n",
    "\n",
    "A classical problem in Wiener filter theory in one of separating signal from noise when both the signal and noise have exponential autocorrelation functions.\n",
    "\n",
    "Autocorrelation:\n",
    "\\begin{equation}\n",
    "  R_s(\\tau)=\\sigma_s^2 e^{-\\beta_s |\\tau|} \\qquad\n",
    "  R_n(\\tau)=\\sigma_n^2 e^{-\\beta_n |\\tau|}\n",
    "\\end{equation}\n",
    "\n",
    "Spectral densities:\n",
    "\\begin{equation}\n",
    "  S_s(j\\omega)=\\frac{2\\sigma_s^2\\beta_s}{\\omega^2 + \\beta_s^2} \\qquad\n",
    "  S_n(j\\omega)=\\frac{2\\sigma_n^2\\beta_n}{\\omega^2 + \\beta_n^2}\n",
    "\\end{equation}\n",
    "\n",
    "Shaping filters:\n",
    "\\begin{equation}\n",
    "  G_s(s)=\\frac{\\sqrt{2\\sigma_s^2\\beta_s}}{s + \\beta_s} \\qquad\n",
    "  G_n(s)=\\frac{\\sqrt{2\\sigma_n^2\\beta_n}}{s + \\beta_n}\n",
    "\\end{equation}\n",
    "\n",
    "Differential equations:\n",
    "\\begin{equation}\n",
    "  \\dot{s} + \\beta_s s = \\sqrt{2\\sigma_s^2\\beta_s} u_s(t) \\qquad\n",
    "  \\dot{n} + \\beta_n n = \\sqrt{2\\sigma_n^2\\beta_n} u_n(t)\n",
    "\\end{equation}\n",
    "\n",
    "Matrix form:\n",
    "\\begin{equation}\n",
    "  \\begin{bmatrix}\n",
    "    \\dot{x_1}\\\\\n",
    "    \\dot{x_2}\\\\\n",
    "  \\end{bmatrix}\n",
    "  =\n",
    "  \\begin{bmatrix}\n",
    "    -\\beta_s &0\\\\\n",
    "    0& -\\beta_n\\\\\n",
    "  \\end{bmatrix}\n",
    "  \\begin{bmatrix}\n",
    "    x_1\\\\\n",
    "    x_2\\\\\n",
    "  \\end{bmatrix}\n",
    "  +\n",
    "  \\begin{bmatrix}\n",
    "    \\sqrt{2\\sigma_s^2\\beta_s}  &0\\\\\n",
    "    0 &\\sqrt{2\\sigma_n^2\\beta_n}\\\\\n",
    "  \\end{bmatrix}\n",
    "  \\begin{bmatrix}\n",
    "    u_s(t)\\\\\n",
    "    u_n(t)\\\\\n",
    "  \\end{bmatrix}\n",
    "\\end{equation}"
   ]
  },
  {
   "cell_type": "code",
   "execution_count": 1,
   "metadata": {},
   "outputs": [
    {
     "data": {
      "text/latex": [
       "$\\displaystyle \\left[\\begin{matrix}e^{- \\beta_{s} t} & 0\\\\0 & e^{- \\beta_{n} t}\\end{matrix}\\right]$"
      ],
      "text/plain": [
       "Matrix([\n",
       "[exp(-beta_s*t),              0],\n",
       "[             0, exp(-beta_n*t)]])"
      ]
     },
     "metadata": {},
     "output_type": "display_data"
    },
    {
     "data": {
      "text/latex": [
       "$\\displaystyle \\left[\\begin{matrix}\\sigma_{s}^{2} - \\sigma_{s}^{2} e^{- 2 \\beta_{s} t} & 0\\\\0 & \\sigma_{n}^{2} - \\sigma_{n}^{2} e^{- 2 \\beta_{n} t}\\end{matrix}\\right]$"
      ],
      "text/plain": [
       "Matrix([\n",
       "[sigma_s**2 - sigma_s**2*exp(-2*beta_s*t),                                        0],\n",
       "[                                       0, sigma_n**2 - sigma_n**2*exp(-2*beta_n*t)]])"
      ]
     },
     "metadata": {},
     "output_type": "display_data"
    }
   ],
   "source": [
    "from sympy import Matrix, symbols, sqrt, eye, inverse_laplace_transform, integrate\n",
    "\n",
    "s, t, beta_s, beta_n, sigma_s, sigma_n = symbols('s t beta_s beta_n sigma_s sigma_n', positive=True)\n",
    "\n",
    "# Dynamic matrix\n",
    "F = Matrix([[-beta_s, 0],\n",
    "            [0, -beta_n]])\n",
    "\n",
    "# Dynamic matrix\n",
    "G = Matrix([[sqrt(2*sigma_s**2*beta_s), 0],\n",
    "            [0, sqrt(2*sigma_n**2*beta_n)]])\n",
    "\n",
    "# Transition matrix\n",
    "phi = inverse_laplace_transform((s*eye(2)-F).inv(), s, t)\n",
    "display(phi)\n",
    "\n",
    "# Process noise matrix\n",
    "Q = integrate(phi@G@G.T@phi.T, (t, 0, t))\n",
    "display(Q)"
   ]
  },
  {
   "cell_type": "markdown",
   "metadata": {},
   "source": [
    "## Simulation"
   ]
  },
  {
   "cell_type": "code",
   "execution_count": 3,
   "metadata": {},
   "outputs": [
    {
     "data": {
      "image/png": "[encoded data removed]",
      "text/plain": [
       "<Figure size 432x288 with 1 Axes>"
      ]
     },
     "metadata": {
      "needs_background": "light"
     },
     "output_type": "display_data"
    }
   ],
   "source": [
    "from numpy import array, exp, sqrt, eye, arange\n",
    "from numpy.linalg import inv\n",
    "from vanloan import numeval\n",
    "import matplotlib.pyplot as plt\n",
    "\n",
    "# System values\n",
    "samples = 50\n",
    "sigmas = 3\n",
    "sigman = 1\n",
    "betas = 0.1  # 1/second\n",
    "betan = 1    # 1/second\n",
    "dt = 1       # second\n",
    "\n",
    "# Dynamics matrix\n",
    "F = array([[-betas, 0],\n",
    "           [0, -betan]])\n",
    "\n",
    "# Spectral coefficients\n",
    "G = array([[sqrt(2*sigmas**2*betas), 0],\n",
    "           [0, sqrt(2*sigman**2*betan)]])\n",
    "\n",
    "# Numerical evaluation\n",
    "[phi, Q] = numeval(F, G, dt)\n",
    "\n",
    "# Initial values\n",
    "P = array([[sigmas**2, 0],\n",
    "           [0, sigman**2]])\n",
    "\n",
    "# Design matrix\n",
    "H = array([[1, 1]])\n",
    "\n",
    "# Measurement noise\n",
    "R = array([[0]])\n",
    "\n",
    "# Plot vectors\n",
    "vars = []\n",
    "varn = []\n",
    "\n",
    "# Main loop\n",
    "for i in range(0, samples):\n",
    "    \n",
    "    # Time update\n",
    "    P = phi@P@phi.T + Q\n",
    "    \n",
    "    # Gain\n",
    "    K = P@H.T@inv(H@P@H.T + R)\n",
    "    \n",
    "    # State covariance matrix update\n",
    "    P = (eye(2) - K@H)@P@(eye(2) - K@H).T + K@R@K.T\n",
    "    \n",
    "    # Error variance\n",
    "    vars.append(P[0, 0])\n",
    "    varn.append(P[1, 1])\n",
    "\n",
    "# Time\n",
    "time = arange(0, samples)\n",
    "\n",
    "# Plotting process\n",
    "plt.figure(1)\n",
    "plt.plot(time, vars, 'b', label='Signal')\n",
    "plt.plot(time, varn, 'r', label='Noise')\n",
    "plt.title('Wiener filter ')\n",
    "plt.xlabel('Time')\n",
    "plt.ylabel('Variance')\n",
    "plt.legend(loc='lower right')\n",
    "plt.grid(True, which='both')\n",
    "plt.show()\n",
    "\n"
   ]
  }
 ],
 "metadata": {
  "kernelspec": {
   "display_name": "Python 3",
   "language": "python",
   "name": "python3"
  },
  "language_info": {
   "codemirror_mode": {
    "name": "ipython",
    "version": 3
   },
   "file_extension": ".py",
   "mimetype": "text/x-python",
   "name": "python",
   "nbconvert_exporter": "python",
   "pygments_lexer": "ipython3",
   "version": "3.9.1"
  }
 },
 "nbformat": 4,
 "nbformat_minor": 4
}
