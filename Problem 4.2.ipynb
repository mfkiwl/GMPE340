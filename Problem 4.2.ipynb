{
 "cells": [
  {
   "cell_type": "markdown",
   "metadata": {},
   "source": [
    "# Solution {-}\n",
    "\n",
    "PVA model"
   ]
  },
  {
   "cell_type": "code",
   "execution_count": 1,
   "metadata": {},
   "outputs": [
    {
     "data": {
      "text/latex": [
       "$\\displaystyle \\left[\\begin{matrix}1 & dt & \\frac{dt^{2}}{2}\\\\0 & 1 & dt\\\\0 & 0 & 1\\end{matrix}\\right]$"
      ],
      "text/plain": [
       "Matrix([\n",
       "[1, dt, dt**2/2],\n",
       "[0,  1,      dt],\n",
       "[0,  0,       1]])"
      ]
     },
     "execution_count": 1,
     "metadata": {},
     "output_type": "execute_result"
    }
   ],
   "source": [
    "from sympy import Matrix, symbols, sqrt, eye, integrate\n",
    "from lib.vanloan import numeval\n",
    "\n",
    "q, dt = symbols('q dt')\n",
    "\n",
    "F = Matrix([[0, 1, 0],\n",
    "            [0, 0, 1],\n",
    "            [0, 0, 0]])\n",
    "\n",
    "G = Matrix([[0],\n",
    "            [0],\n",
    "            [sqrt(q)]])\n",
    "\n",
    "phi = eye(3) + F*dt + (F*dt)**2/2\n",
    "phi"
   ]
  },
  {
   "cell_type": "code",
   "execution_count": 2,
   "metadata": {},
   "outputs": [
    {
     "data": {
      "text/latex": [
       "$\\displaystyle \\left[\\begin{matrix}\\frac{dt^{5} q}{20} & \\frac{dt^{4} q}{8} & \\frac{dt^{3} q}{6}\\\\\\frac{dt^{4} q}{8} & \\frac{dt^{3} q}{3} & \\frac{dt^{2} q}{2}\\\\\\frac{dt^{3} q}{6} & \\frac{dt^{2} q}{2} & dt q\\end{matrix}\\right]$"
      ],
      "text/plain": [
       "Matrix([\n",
       "[dt**5*q/20, dt**4*q/8, dt**3*q/6],\n",
       "[ dt**4*q/8, dt**3*q/3, dt**2*q/2],\n",
       "[ dt**3*q/6, dt**2*q/2,      dt*q]])"
      ]
     },
     "execution_count": 2,
     "metadata": {},
     "output_type": "execute_result"
    }
   ],
   "source": [
    "# Process noise\n",
    "Q = integrate(phi@G@G.T@phi.T, dt)\n",
    "Q"
   ]
  },
  {
   "cell_type": "markdown",
   "metadata": {},
   "source": [
    "Numerical example"
   ]
  },
  {
   "cell_type": "code",
   "execution_count": 3,
   "metadata": {},
   "outputs": [
    {
     "name": "stdout",
     "output_type": "stream",
     "text": [
      "[[1.99333335e+03 1.99500000e+02 9.98333333e+00]\n",
      " [1.99500000e+02 1.99666667e+01 1.00000000e+00]\n",
      " [9.98333333e+00 1.00000000e+00 0.00000000e+00]]\n"
     ]
    }
   ],
   "source": [
    "from numpy import array, zeros, arange\n",
    "import matplotlib.pyplot as plt\n",
    "\n",
    "# System parameters\n",
    "dt = 0.1\n",
    "q = 1\n",
    "\n",
    "F = array([[0, 1, 0],\n",
    "           [0, 0, 1],\n",
    "           [0, 0, 0]])\n",
    "\n",
    "G = array([[0],\n",
    "           [0],\n",
    "           [sqrt(q)]])\n",
    "\n",
    "# Numerical evaluation\n",
    "[phi, Q_true] = numeval(F, G, dt)\n",
    "\n",
    "# Process noise approximation\n",
    "Q_approx = array([[0, 0, 0],\n",
    "                  [0, 0, 0],\n",
    "                  [0, 0, q*dt]])\n",
    "\n",
    "# Plot vectors\n",
    "var_true = []\n",
    "var_approx = []\n",
    "\n",
    "# Initial covariance\n",
    "P = zeros([3, 3])\n",
    "for i in range(0, 200):\n",
    "    P = phi@P@phi.T + Q_true\n",
    "    var_true.append(P)\n",
    "\n",
    "# Initial covariance\n",
    "P = zeros([3, 3])\n",
    "for i in range(0, 200):\n",
    "    P = phi@P@phi.T + Q_approx\n",
    "    var_approx.append(P)\n",
    "\n",
    "# Difference at step 200\n",
    "print(var_true[199] - var_approx[199])"
   ]
  }
 ],
 "metadata": {
  "kernelspec": {
   "display_name": "Python 3",
   "language": "python",
   "name": "python3"
  },
  "language_info": {
   "codemirror_mode": {
    "name": "ipython",
    "version": 3
   },
   "file_extension": ".py",
   "mimetype": "text/x-python",
   "name": "python",
   "nbconvert_exporter": "python",
   "pygments_lexer": "ipython3",
   "version": "3.9.1"
  }
 },
 "nbformat": 4,
 "nbformat_minor": 4
}
