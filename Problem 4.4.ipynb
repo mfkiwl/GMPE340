{
 "cells": [
  {
   "cell_type": "markdown",
   "metadata": {},
   "source": [
    "# Solution {-}\n",
    "\n",
    "System driven by two independent Gaussian white sources."
   ]
  },
  {
   "cell_type": "code",
   "execution_count": 1,
   "metadata": {},
   "outputs": [
    {
     "data": {
      "text/latex": [
       "$\\displaystyle \\left[\\begin{matrix}1 & dt\\\\0 & 1\\end{matrix}\\right]$"
      ],
      "text/plain": [
       "Matrix([\n",
       "[1, dt],\n",
       "[0,  1]])"
      ]
     },
     "execution_count": 1,
     "metadata": {},
     "output_type": "execute_result"
    }
   ],
   "source": [
    "from sympy import Matrix, symbols, sqrt, eye, integrate\n",
    "\n",
    "dt, q1, q2 = symbols('dt q1 q2')\n",
    "\n",
    "F = Matrix([[0, 1],\n",
    "            [0, 0]])\n",
    "\n",
    "G = Matrix([[sqrt(q2), 0],\n",
    "            [0, sqrt(q1)]])\n",
    "\n",
    "# Transition matrix\n",
    "phi = eye(2) + F*dt\n",
    "phi"
   ]
  },
  {
   "cell_type": "code",
   "execution_count": 2,
   "metadata": {},
   "outputs": [
    {
     "data": {
      "text/latex": [
       "$\\displaystyle \\left[\\begin{matrix}\\frac{dt^{3} q_{1}}{3} + dt q_{2} & \\frac{dt^{2} q_{1}}{2}\\\\\\frac{dt^{2} q_{1}}{2} & dt q_{1}\\end{matrix}\\right]$"
      ],
      "text/plain": [
       "Matrix([\n",
       "[dt**3*q1/3 + dt*q2, dt**2*q1/2],\n",
       "[        dt**2*q1/2,      dt*q1]])"
      ]
     },
     "execution_count": 2,
     "metadata": {},
     "output_type": "execute_result"
    }
   ],
   "source": [
    "# Process noise matrix\n",
    "Q = integrate(phi@G@G.T@phi.T, dt)\n",
    "Q"
   ]
  },
  {
   "cell_type": "code",
   "execution_count": 3,
   "metadata": {},
   "outputs": [
    {
     "name": "stdout",
     "output_type": "stream",
     "text": [
      "[[1. 1.]\n",
      " [0. 1.]]\n",
      "[[17.33333333  2.        ]\n",
      " [ 2.          4.        ]]\n"
     ]
    }
   ],
   "source": [
    "from numpy import array, sqrt\n",
    "from lib.vanloan import numeval\n",
    "\n",
    "F = array([[0, 1],\n",
    "           [0, 0]])\n",
    "\n",
    "G = array([[sqrt(16), 0],\n",
    "           [0, sqrt(4)]])\n",
    "\n",
    "# Numerical evaluation (Van Loan)\n",
    "[phi, Q] = numeval(F, G, 1)\n",
    "print(phi)\n",
    "print(Q)"
   ]
  }
 ],
 "metadata": {
  "kernelspec": {
   "display_name": "Python 3",
   "language": "python",
   "name": "python3"
  },
  "language_info": {
   "codemirror_mode": {
    "name": "ipython",
    "version": 3
   },
   "file_extension": ".py",
   "mimetype": "text/x-python",
   "name": "python",
   "nbconvert_exporter": "python",
   "pygments_lexer": "ipython3",
   "version": "3.9.1"
  }
 },
 "nbformat": 4,
 "nbformat_minor": 4
}
