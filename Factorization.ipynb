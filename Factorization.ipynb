{
 "cells": [
  {
   "cell_type": "code",
   "execution_count": 1,
   "id": "5663b8d9-5656-4bc2-8900-6d6da0027e24",
   "metadata": {},
   "outputs": [
    {
     "data": {
      "text/latex": [
       "$\\displaystyle \\frac{16 \\sqrt{2}}{s^{4} + 64}$"
      ],
      "text/plain": [
       "16*sqrt(2)/(s**4 + 64)"
      ]
     },
     "execution_count": 1,
     "metadata": {},
     "output_type": "execute_result"
    }
   ],
   "source": [
    "from sympy import symbols, factor, sqrt\n",
    "\n",
    "s, Sx = symbols('s Sx')\n",
    "\n",
    "Sx = 16*sqrt(2)/(s**4 + 64)\n",
    "Sx"
   ]
  },
  {
   "cell_type": "code",
   "execution_count": 2,
   "id": "239bcc92-f3e3-440b-9f07-ffbaecd1cf3a",
   "metadata": {},
   "outputs": [
    {
     "data": {
      "text/latex": [
       "$\\displaystyle \\frac{16 \\sqrt{2}}{\\left(s^{2} - 4 s + 8\\right) \\left(s^{2} + 4 s + 8\\right)}$"
      ],
      "text/plain": [
       "16*sqrt(2)/((s**2 - 4*s + 8)*(s**2 + 4*s + 8))"
      ]
     },
     "execution_count": 2,
     "metadata": {},
     "output_type": "execute_result"
    }
   ],
   "source": [
    "factor(Sx)"
   ]
  }
 ],
 "metadata": {
  "kernelspec": {
   "display_name": "Python 3",
   "language": "python",
   "name": "python3"
  },
  "language_info": {
   "codemirror_mode": {
    "name": "ipython",
    "version": 3
   },
   "file_extension": ".py",
   "mimetype": "text/x-python",
   "name": "python",
   "nbconvert_exporter": "python",
   "pygments_lexer": "ipython3",
   "version": "3.9.1"
  }
 },
 "nbformat": 4,
 "nbformat_minor": 5
}
