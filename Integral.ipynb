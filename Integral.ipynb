{
 "cells": [
  {
   "cell_type": "code",
   "execution_count": 3,
   "id": "3d13b345-5ab1-4977-a441-bf50a4970815",
   "metadata": {},
   "outputs": [
    {
     "data": {
      "text/latex": [
       "$\\displaystyle \\frac{x^{4} \\left(1 - x\\right)^{4}}{x^{2} + 1}$"
      ],
      "text/plain": [
       "x**4*(1 - x)**4/(x**2 + 1)"
      ]
     },
     "execution_count": 3,
     "metadata": {},
     "output_type": "execute_result"
    }
   ],
   "source": [
    "from sympy import symbols, Integral, integrate\n",
    "\n",
    "x = symbols('x')\n",
    "\n",
    "f = x**4*(1 - x)**4/(1 + x**2)\n",
    "f"
   ]
  },
  {
   "cell_type": "code",
   "execution_count": 4,
   "id": "70a3abe2-36cc-45a1-aa9e-dd6096525fa4",
   "metadata": {},
   "outputs": [
    {
     "data": {
      "text/latex": [
       "$\\displaystyle \\int \\frac{x^{4} \\left(1 - x\\right)^{4}}{x^{2} + 1}\\, dx$"
      ],
      "text/plain": [
       "Integral(x**4*(1 - x)**4/(x**2 + 1), x)"
      ]
     },
     "execution_count": 4,
     "metadata": {},
     "output_type": "execute_result"
    }
   ],
   "source": [
    "F = Integral(f, x)\n",
    "F"
   ]
  },
  {
   "cell_type": "code",
   "execution_count": 5,
   "id": "2d5f0a41-88c5-4f70-8202-65e59ce18f53",
   "metadata": {},
   "outputs": [
    {
     "data": {
      "text/latex": [
       "$\\displaystyle \\frac{x^{7}}{7} - \\frac{2 x^{6}}{3} + x^{5} - \\frac{4 x^{3}}{3} + 4 x - 4 \\operatorname{atan}{\\left(x \\right)}$"
      ],
      "text/plain": [
       "x**7/7 - 2*x**6/3 + x**5 - 4*x**3/3 + 4*x - 4*atan(x)"
      ]
     },
     "execution_count": 5,
     "metadata": {},
     "output_type": "execute_result"
    }
   ],
   "source": [
    "F.doit()"
   ]
  },
  {
   "cell_type": "code",
   "execution_count": 6,
   "id": "25d2381f-a119-4f0d-9526-0017db73f885",
   "metadata": {},
   "outputs": [
    {
     "data": {
      "text/latex": [
       "$\\displaystyle \\frac{x^{7}}{7} - \\frac{2 x^{6}}{3} + x^{5} - \\frac{4 x^{3}}{3} + 4 x - 4 \\operatorname{atan}{\\left(x \\right)}$"
      ],
      "text/plain": [
       "x**7/7 - 2*x**6/3 + x**5 - 4*x**3/3 + 4*x - 4*atan(x)"
      ]
     },
     "execution_count": 6,
     "metadata": {},
     "output_type": "execute_result"
    }
   ],
   "source": [
    "F = integrate(f, x)\n",
    "F"
   ]
  },
  {
   "cell_type": "code",
   "execution_count": 7,
   "id": "127b0792-b58b-49cb-ad4e-71c689a3db54",
   "metadata": {},
   "outputs": [
    {
     "data": {
      "text/latex": [
       "$\\displaystyle \\frac{22}{7} - \\pi$"
      ],
      "text/plain": [
       "22/7 - pi"
      ]
     },
     "execution_count": 7,
     "metadata": {},
     "output_type": "execute_result"
    }
   ],
   "source": [
    "F = integrate(f, (x, 0, 1))\n",
    "F"
   ]
  }
 ],
 "metadata": {
  "kernelspec": {
   "display_name": "Python 3",
   "language": "python",
   "name": "python3"
  },
  "language_info": {
   "codemirror_mode": {
    "name": "ipython",
    "version": 3
   },
   "file_extension": ".py",
   "mimetype": "text/x-python",
   "name": "python",
   "nbconvert_exporter": "python",
   "pygments_lexer": "ipython3",
   "version": "3.9.1"
  }
 },
 "nbformat": 4,
 "nbformat_minor": 5
}
