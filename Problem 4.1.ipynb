{
 "cells": [
  {
   "cell_type": "markdown",
   "metadata": {},
   "source": [
    "# Solution {-}\n",
    "\n",
    "Analyst A computes the variance as 2-state model."
   ]
  },
  {
   "cell_type": "code",
   "execution_count": 1,
   "metadata": {},
   "outputs": [],
   "source": [
    "from numpy import array, eye, arange\n",
    "from numpy.linalg import inv\n",
    "import matplotlib.pyplot as plt\n",
    "\n",
    "phi = array([[1, 0],\n",
    "             [0, 1]])\n",
    "\n",
    "Q = array([[0, 0],\n",
    "           [0, 1]])\n",
    "\n",
    "H = array([[1, 1]])\n",
    "\n",
    "R = array([[4]])\n",
    "\n",
    "# Initial covariance\n",
    "P = array([[100, 0],\n",
    "           [0, 0]])\n",
    "\n",
    "# Plot vector\n",
    "varA = []\n",
    "\n",
    "for i in range(0, 51):\n",
    "    \n",
    "    # Project ahead\n",
    "    P = phi@P@phi.T + Q\n",
    "    \n",
    "    # Kalman gain\n",
    "    K = P@H.T@inv(H@P@H.T + R)\n",
    "    \n",
    "    # Update\n",
    "    P = (eye(2) - K@H)@P\n",
    "    varA.append(P[0, 0] + 2*P[0, 1] + P[1, 1])"
   ]
  },
  {
   "cell_type": "markdown",
   "metadata": {},
   "source": [
    "Analyst B computes the variance as 1-state model."
   ]
  },
  {
   "cell_type": "code",
   "execution_count": 2,
   "metadata": {},
   "outputs": [],
   "source": [
    "phi = 1\n",
    "Q = 1\n",
    "H = 1\n",
    "R = 4\n",
    "\n",
    "# Initial covariance\n",
    "P = 100\n",
    "\n",
    "# Plot vector\n",
    "varB = []\n",
    "\n",
    "for i in range(0, 51):\n",
    "    \n",
    "    # Project ahead\n",
    "    P = phi*P*phi + Q\n",
    "    \n",
    "    # Kalman gain\n",
    "    K = P*H/(H*P*H + R)\n",
    "    \n",
    "    # Update\n",
    "    P = (1 - K*H)*P\n",
    "    varB.append(P)"
   ]
  },
  {
   "cell_type": "code",
   "execution_count": 3,
   "metadata": {},
   "outputs": [
    {
     "data": {
      "image/png": "[encoded data removed]",
      "text/plain": [
       "<Figure size 432x288 with 1 Axes>"
      ]
     },
     "metadata": {
      "needs_background": "light"
     },
     "output_type": "display_data"
    }
   ],
   "source": [
    "# Plot results\n",
    "s = arange(0, 51)\n",
    "plt.figure(1)\n",
    "plt.plot(s, varA, 'b', label='Analyst A')\n",
    "plt.plot(s, varB, 'r', label='Analyst B')\n",
    "plt.title('Comparison ')\n",
    "plt.xlabel('Samples')\n",
    "plt.ylabel('Variance')\n",
    "plt.legend(loc='upper right')\n",
    "plt.grid(True, which='both')\n",
    "plt.show()"
   ]
  }
 ],
 "metadata": {
  "kernelspec": {
   "display_name": "Python 3",
   "language": "python",
   "name": "python3"
  },
  "language_info": {
   "codemirror_mode": {
    "name": "ipython",
    "version": 3
   },
   "file_extension": ".py",
   "mimetype": "text/x-python",
   "name": "python",
   "nbconvert_exporter": "python",
   "pygments_lexer": "ipython3",
   "version": "3.9.1"
  }
 },
 "nbformat": 4,
 "nbformat_minor": 4
}
