{
 "cells": [
  {
   "cell_type": "markdown",
   "id": "fdba5457-e722-46dc-b8f2-67a2fa04b080",
   "metadata": {
    "tags": []
   },
   "source": [
    "# Example {-}\n",
    "A slightly modified version of example 3.11 demonstrating various strategies on how to compute the transition matrix $\\phi$ and the process noise matrix $Q$."
   ]
  },
  {
   "cell_type": "code",
   "execution_count": 1,
   "id": "fb799e88-c251-40e0-b218-1034d6f606e1",
   "metadata": {},
   "outputs": [
    {
     "data": {
      "text/latex": [
       "$\\displaystyle \\left[\\begin{matrix}1 & t\\\\0 & 1\\end{matrix}\\right]$"
      ],
      "text/plain": [
       "Matrix([\n",
       "[1, t],\n",
       "[0, 1]])"
      ]
     },
     "metadata": {},
     "output_type": "display_data"
    },
    {
     "data": {
      "text/latex": [
       "$\\displaystyle \\left[\\begin{matrix}1 & t\\\\0 & 1\\end{matrix}\\right]$"
      ],
      "text/plain": [
       "Matrix([\n",
       "[1, t],\n",
       "[0, 1]])"
      ]
     },
     "metadata": {},
     "output_type": "display_data"
    }
   ],
   "source": [
    "from sympy import symbols, Matrix, sqrt, eye, inverse_laplace_transform, integrate\n",
    "\n",
    "s, q = symbols('s q')\n",
    "t = symbols('t', positive=True)\n",
    "\n",
    "# Dynamic matrices\n",
    "F1 = Matrix([[0, 1],\n",
    "             [0, 0]])\n",
    "\n",
    "F2 = Matrix([[0, 1],\n",
    "             [-4, -2*sqrt(2)]])\n",
    "\n",
    "# White noise coefficient vector\n",
    "G = Matrix([[0],\n",
    "            [sqrt(q)]])\n",
    "\n",
    "# Compute transition matrix (from F1)\n",
    "phi1 = eye(2) + F1*t\n",
    "display(phi1)\n",
    "\n",
    "phi1 = inverse_laplace_transform((s*eye(2) - F1).inv(), s, t)\n",
    "display(phi1)"
   ]
  },
  {
   "cell_type": "code",
   "execution_count": 2,
   "id": "c5566c7d-82ee-4509-9cbe-f5b155f458e2",
   "metadata": {},
   "outputs": [
    {
     "data": {
      "text/latex": [
       "$\\displaystyle \\left[\\begin{matrix}\\frac{4 \\sqrt{2} t^{3}}{3} - 2 t^{2} + 1 & \\frac{2 t^{3}}{3} - \\sqrt{2} t^{2} + t\\\\- \\frac{8 t^{3}}{3} + 4 \\sqrt{2} t^{2} - 4 t & 2 t^{2} - 2 \\sqrt{2} t + 1\\end{matrix}\\right]$"
      ],
      "text/plain": [
       "Matrix([\n",
       "[   4*sqrt(2)*t**3/3 - 2*t**2 + 1, 2*t**3/3 - sqrt(2)*t**2 + t],\n",
       "[-8*t**3/3 + 4*sqrt(2)*t**2 - 4*t,    2*t**2 - 2*sqrt(2)*t + 1]])"
      ]
     },
     "metadata": {},
     "output_type": "display_data"
    },
    {
     "data": {
      "text/latex": [
       "$\\displaystyle \\left[\\begin{matrix}\\left(\\sin{\\left(\\sqrt{2} t \\right)} + \\cos{\\left(\\sqrt{2} t \\right)}\\right) e^{- \\sqrt{2} t} & \\frac{\\sqrt{2} e^{- \\sqrt{2} t} \\sin{\\left(\\sqrt{2} t \\right)}}{2}\\\\- 2 \\sqrt{2} e^{- \\sqrt{2} t} \\sin{\\left(\\sqrt{2} t \\right)} & \\left(- \\sin{\\left(\\sqrt{2} t \\right)} + \\cos{\\left(\\sqrt{2} t \\right)}\\right) e^{- \\sqrt{2} t}\\end{matrix}\\right]$"
      ],
      "text/plain": [
       "Matrix([\n",
       "[(sin(sqrt(2)*t) + cos(sqrt(2)*t))*exp(-sqrt(2)*t),           sqrt(2)*exp(-sqrt(2)*t)*sin(sqrt(2)*t)/2],\n",
       "[        -2*sqrt(2)*exp(-sqrt(2)*t)*sin(sqrt(2)*t), (-sin(sqrt(2)*t) + cos(sqrt(2)*t))*exp(-sqrt(2)*t)]])"
      ]
     },
     "metadata": {},
     "output_type": "display_data"
    }
   ],
   "source": [
    "# Compute transition matrix (from F2)\n",
    "phi2 = eye(2) + F2*t + (F2*t)**2/2 + (F2*t)**3/6 # + more terms -> i.e. only approximate\n",
    "display(phi2)\n",
    "\n",
    "phi2 = inverse_laplace_transform((s*eye(2) - F2).inv(), s, t)\n",
    "display(phi2)"
   ]
  },
  {
   "cell_type": "code",
   "execution_count": 3,
   "id": "f5c2ad74-0447-4933-9063-37cbcf69a364",
   "metadata": {},
   "outputs": [
    {
     "data": {
      "text/latex": [
       "$\\displaystyle \\left[\\begin{matrix}\\frac{q t^{3}}{3} & \\frac{q t^{2}}{2}\\\\\\frac{q t^{2}}{2} & q t\\end{matrix}\\right]$"
      ],
      "text/plain": [
       "Matrix([\n",
       "[q*t**3/3, q*t**2/2],\n",
       "[q*t**2/2,      q*t]])"
      ]
     },
     "metadata": {},
     "output_type": "display_data"
    }
   ],
   "source": [
    "# Process noise (from F1)\n",
    "Q1 = integrate(phi1@G@G.T@phi1.T, t)\n",
    "display(Q1)"
   ]
  },
  {
   "cell_type": "code",
   "execution_count": 4,
   "id": "05627c95-76a2-4781-aab4-4a20660be556",
   "metadata": {},
   "outputs": [
    {
     "name": "stdout",
     "output_type": "stream",
     "text": [
      "[[1. 1.]\n",
      " [0. 1.]]\n",
      "[[0.33333333 0.5       ]\n",
      " [0.5        1.        ]]\n"
     ]
    }
   ],
   "source": [
    "from numpy import array, sqrt, eye\n",
    "from lib.vanloan import numeval\n",
    "\n",
    "# System parameters\n",
    "t = 1  # [second]\n",
    "q = 1  # [m^2/s^3]\n",
    "\n",
    "# Dynamic matrix\n",
    "F1 = array([[0, 1],\n",
    "            [0, 0]])\n",
    "\n",
    "F2 = array([[0, 1],\n",
    "            [-4, -2*sqrt(2)]])\n",
    "\n",
    "# White noise coefficient vector\n",
    "G = array([[0],\n",
    "           [sqrt(q)]])\n",
    "\n",
    "# Numerical evaluation (from F1)\n",
    "[phi1, Q1] = numeval(F1, G, t)\n",
    "print(phi1)\n",
    "print(Q1)"
   ]
  },
  {
   "cell_type": "code",
   "execution_count": 5,
   "id": "abf50fe8-cc18-4f5d-95a8-d5abd73467d4",
   "metadata": {},
   "outputs": [
    {
     "name": "stdout",
     "output_type": "stream",
     "text": [
      "[[ 0.27805495  0.16980634]\n",
      " [-0.67922537 -0.20222991]]\n",
      "[[0.03568011 0.0144171 ]\n",
      " [0.0144171  0.14915822]]\n"
     ]
    }
   ],
   "source": [
    "# Numerical evaluation (from F2)\n",
    "[phi2, Q2] = numeval(F2, G, t)\n",
    "print(phi2)\n",
    "print(Q2)"
   ]
  }
 ],
 "metadata": {
  "kernelspec": {
   "display_name": "Python 3",
   "language": "python",
   "name": "python3"
  },
  "language_info": {
   "codemirror_mode": {
    "name": "ipython",
    "version": 3
   },
   "file_extension": ".py",
   "mimetype": "text/x-python",
   "name": "python",
   "nbconvert_exporter": "python",
   "pygments_lexer": "ipython3",
   "version": "3.9.1"
  }
 },
 "nbformat": 4,
 "nbformat_minor": 5
}
