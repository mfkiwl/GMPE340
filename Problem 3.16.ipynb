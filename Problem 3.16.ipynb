{
 "cells": [
  {
   "cell_type": "markdown",
   "metadata": {},
   "source": [
    "# Solution {-}\n",
    "\n",
    "Evaluation of integrals analytically can be quite laborious (some also impossible), so one should not overlook the possibility of using numerical integration. To demonstrate the effectiveness of the numerical approach, consider the following system driven by white noise whose PSD = 10 units.\n",
    "\n",
    "\\begin{equation*}\n",
    "  G(s)=\\frac{1}{s^2+\\omega_0^2}, \\quad \\omega_0=20\\pi\n",
    "\\end{equation*}\n",
    "\n",
    "Lets say we want to find $E[x^2(t)]$ for $0 \\leq t \\leq 1$ with a sample spacing of 0.001 seconds."
   ]
  },
  {
   "cell_type": "code",
   "execution_count": 1,
   "metadata": {},
   "outputs": [
    {
     "data": {
      "text/latex": [
       "$\\displaystyle \\frac{1}{s^{2} + w_{0}^{2}}$"
      ],
      "text/plain": [
       "1/(s**2 + w0**2)"
      ]
     },
     "metadata": {},
     "output_type": "display_data"
    }
   ],
   "source": [
    "from numpy import arange, pi, sin, cos\n",
    "from scipy.integrate import quad\n",
    "from sympy import inverse_laplace_transform, integrate, symbols\n",
    "import matplotlib.pyplot as plt\n",
    "\n",
    "s, t, w0, A = symbols('s t w0 A', positive = True)\n",
    "\n",
    "# Filter in s-domain\n",
    "G = 1/(s**2 + w0**2)\n",
    "display(G)"
   ]
  },
  {
   "cell_type": "code",
   "execution_count": 2,
   "metadata": {},
   "outputs": [
    {
     "data": {
      "text/latex": [
       "$\\displaystyle \\frac{\\sin{\\left(t w_{0} \\right)}}{w_{0}}$"
      ],
      "text/plain": [
       "sin(t*w0)/w0"
      ]
     },
     "metadata": {},
     "output_type": "display_data"
    }
   ],
   "source": [
    "# Filter in t-domain\n",
    "g = inverse_laplace_transform(G, s, t)\n",
    "display(g)"
   ]
  },
  {
   "cell_type": "code",
   "execution_count": 3,
   "metadata": {},
   "outputs": [
    {
     "data": {
      "text/latex": [
       "$\\displaystyle \\frac{A \\left(\\frac{t w_{0}}{2} - \\frac{\\sin{\\left(t w_{0} \\right)} \\cos{\\left(t w_{0} \\right)}}{2}\\right)}{w_{0}^{3}}$"
      ],
      "text/plain": [
       "A*(t*w0/2 - sin(t*w0)*cos(t*w0)/2)/w0**3"
      ]
     },
     "metadata": {},
     "output_type": "display_data"
    }
   ],
   "source": [
    "EX2 = integrate(A*g**2, t)\n",
    "display(EX2)"
   ]
  },
  {
   "cell_type": "code",
   "execution_count": 4,
   "metadata": {},
   "outputs": [
    {
     "data": {
      "image/png": "[encoded data removed]",
      "text/plain": [
       "<Figure size 432x288 with 1 Axes>"
      ]
     },
     "metadata": {
      "needs_background": "light"
     },
     "output_type": "display_data"
    }
   ],
   "source": [
    "# Numerical values\n",
    "dt = .001\n",
    "A = 10\n",
    "w0 = 20*pi\n",
    "\n",
    "# Initialize plot vectors\n",
    "exact = []\n",
    "approx = []\n",
    "time=arange(0, 0.1, dt)\n",
    "\n",
    "# Exact integral\n",
    "for i in range(100):\n",
    "    EX2 = A/w0**3*(1/2*w0*i*dt - 1/2*sin(w0*i*dt)*cos(w0*i*dt))\n",
    "    exact.append(EX2) \n",
    "\n",
    "# Numerical integration\n",
    "f = lambda dt: A*(sin(w0*dt)/w0)**2\n",
    "for i in range(100):\n",
    "    EX2 = quad(f, 0, i*dt)\n",
    "    approx.append(EX2[0])\n",
    "    \n",
    "plt.title('Square Impulsive Respons')\n",
    "plt.xlabel('Time (second)')\n",
    "plt.ylabel('E(X2)')\n",
    "plt.plot(time, exact, 'b', label='Exact')\n",
    "plt.plot(time, approx, 'r', label='Approx')\n",
    "plt.legend(loc='lower right')\n",
    "plt.grid(True, which='both')\n",
    "plt.show()"
   ]
  }
 ],
 "metadata": {
  "kernelspec": {
   "display_name": "Python 3",
   "language": "python",
   "name": "python3"
  },
  "language_info": {
   "codemirror_mode": {
    "name": "ipython",
    "version": 3
   },
   "file_extension": ".py",
   "mimetype": "text/x-python",
   "name": "python",
   "nbconvert_exporter": "python",
   "pygments_lexer": "ipython3",
   "version": "3.9.1"
  }
 },
 "nbformat": 4,
 "nbformat_minor": 4
}
