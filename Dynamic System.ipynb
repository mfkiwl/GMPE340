{
 "cells": [
  {
   "cell_type": "markdown",
   "metadata": {},
   "source": [
    "# Estimating the state of a dynamic system {-}"
   ]
  },
  {
   "cell_type": "markdown",
   "metadata": {},
   "source": [
    "Assume a system that changes its state over time. In a one-dimensional world a car is driving with constant velocity along the x-axis and we want to estimate the system state by observing the distance travelled."
   ]
  },
  {
   "cell_type": "markdown",
   "metadata": {},
   "source": [
    "The velocity of the car is defined as the rate of change in distance with respect to time:"
   ]
  },
  {
   "cell_type": "markdown",
   "metadata": {},
   "source": [
    "\\begin{equation*}\n",
    "  \\dot x = \\frac{dx}{dt}\n",
    "\\end{equation*}"
   ]
  },
  {
   "cell_type": "markdown",
   "metadata": {},
   "source": [
    "Assuming constant velocity, the dynamic model of the system can be written as:"
   ]
  },
  {
   "cell_type": "markdown",
   "metadata": {},
   "source": [
    "\\begin{align*}\n",
    "  x_n =& x_{n-1} + \\dot{x}_{n-1} \\cdot \\Delta t \\\\\n",
    "  \\dot{x}_n =& \\dot{x}_{n-1} \\\\\n",
    "\\end{align*}"
   ]
  },
  {
   "cell_type": "markdown",
   "metadata": {},
   "source": [
    "The measurement update equation can be written as:"
   ]
  },
  {
   "cell_type": "markdown",
   "metadata": {},
   "source": [
    "\\begin{align*}\n",
    "  \\hat{x}_n =& \\hat{x}_{n-1} + \\alpha (y_n - \\hat{x}_{n-1}) \\\\\n",
    "  \\hat{\\dot{x}}_n =& \\hat{\\dot{x}}_{n-1} + \\beta (\\frac{y_n - \\hat{x}_{n-1}}{\\Delta t}) \\\\\n",
    "\\end{align*}"
   ]
  },
  {
   "cell_type": "code",
   "execution_count": 1,
   "metadata": {},
   "outputs": [
    {
     "data": {
      "image/png": "[encoded data removed]",
      "text/plain": [
       "<Figure size 432x288 with 1 Axes>"
      ]
     },
     "metadata": {
      "needs_background": "light"
     },
     "output_type": "display_data"
    }
   ],
   "source": [
    "from numpy import arange, random\n",
    "import matplotlib.pyplot as plt\n",
    "\n",
    "# System parameters\n",
    "dt = 1       # sampling interval [second]\n",
    "samples = 10 # number of samples\n",
    "\n",
    "# Inital state\n",
    "x = 0        # [meter]\n",
    "x_dot = 5    # [meter/second]\n",
    "\n",
    "alpha = 0.2  # gain factor alpha\n",
    "beta = 0.1   # gain factor beta\n",
    "\n",
    "# Initialize plot vectors\n",
    "time = arange(0, samples)\n",
    "pos_true = []; pos_est = []; z = []\n",
    "\n",
    "for i in range(0, samples):\n",
    "    \n",
    "    # Generate true trajectory\n",
    "    x = x + x_dot*dt\n",
    "    \n",
    "    # Generate normal distributed observations from true trajectory\n",
    "    pos_true.append(x)\n",
    "    z.append(x + random.normal(0, 5))\n",
    "\n",
    "x = 0\n",
    "for i in range(0, samples):\n",
    "\n",
    "    # Time update\n",
    "    x = x + x_dot*dt\n",
    "    x_dot = x_dot\n",
    "    \n",
    "    # Measurement update\n",
    "    x = x + alpha*(z[i] - x)\n",
    "    x_dot = x_dot + beta*((z[i] - x)/dt)\n",
    "    pos_est.append(x)\n",
    "    \n",
    "# Plot result\n",
    "plt.plot(time, pos_true, 'b', label='pos_true')\n",
    "plt.plot(time, pos_est, 'g', label='pos')\n",
    "plt.plot(time , z, 'ro', label='obs')\n",
    "plt.title('Dynamic System')\n",
    "plt.xlabel('Time (second)')\n",
    "plt.ylabel('Position (meter)')\n",
    "plt.legend(loc='lower right')\n",
    "plt.grid(True, which='both')\n",
    "plt.show()"
   ]
  }
 ],
 "metadata": {
  "kernelspec": {
   "display_name": "Python 3",
   "language": "python",
   "name": "python3"
  },
  "language_info": {
   "codemirror_mode": {
    "name": "ipython",
    "version": 3
   },
   "file_extension": ".py",
   "mimetype": "text/x-python",
   "name": "python",
   "nbconvert_exporter": "python",
   "pygments_lexer": "ipython3",
   "version": "3.9.1"
  }
 },
 "nbformat": 4,
 "nbformat_minor": 4
}
