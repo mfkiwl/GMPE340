{
 "cells": [
  {
   "cell_type": "markdown",
   "metadata": {},
   "source": [
    "# Solution {-}\n",
    "\n",
    "A random variable $X$ whose probability density function is given as:\n",
    "\n",
    "\\begin{equation*}\n",
    "  f_X(x)=\n",
    "  \\begin{cases}\n",
    "    \\alpha e^{-\\alpha x}, &x \\geq 0 \\\\\n",
    "    0, &x < 0 \\\\\n",
    "  \\end{cases}\n",
    "\\end{equation*}\n",
    "\n",
    "This density function is used to describe the failure of equipment components. The probability that a component will fail within time $T$ is:\n",
    "\n",
    "\\begin{equation*}\n",
    "  P(fail)=\\int_0^T f_X(x) dx\n",
    "\\end{equation*}\n",
    "\n",
    "Find $\\alpha$ for an electronic component whose expected lifetime is 10000 hours:\n",
    "\n",
    "\\begin{equation*}\n",
    "  E(X)=\\int_0^\\infty x \\cdot \\alpha e^{-\\alpha x} dx=\\alpha\\frac{1}{\\alpha^2}=\\frac{1}{\\alpha}=10000 \\rightarrow \\alpha=\\frac{1}{10000}\n",
    "\\end{equation*}"
   ]
  },
  {
   "cell_type": "code",
   "execution_count": 1,
   "metadata": {},
   "outputs": [
    {
     "data": {
      "text/latex": [
       "$\\displaystyle \\begin{cases} \\frac{1}{\\alpha} & \\text{for}\\: \\left|{\\arg{\\left(\\alpha \\right)}}\\right| < \\frac{\\pi}{2} \\\\\\int\\limits_{0}^{\\infty} \\alpha x e^{- \\alpha x}\\, dx & \\text{otherwise} \\end{cases}$"
      ],
      "text/plain": [
       "Piecewise((1/alpha, Abs(arg(alpha)) < pi/2), (Integral(alpha*x*exp(-alpha*x), (x, 0, oo)), True))"
      ]
     },
     "execution_count": 1,
     "metadata": {},
     "output_type": "execute_result"
    }
   ],
   "source": [
    "from sympy import exp, integrate, symbols, oo\n",
    "\n",
    "x, alpha = symbols('x alpha') \n",
    "\n",
    "EX = integrate(x*alpha*exp(-alpha*x), (x, 0, oo))\n",
    "\n",
    "EX"
   ]
  }
 ],
 "metadata": {
  "kernelspec": {
   "display_name": "Python 3",
   "language": "python",
   "name": "python3"
  },
  "language_info": {
   "codemirror_mode": {
    "name": "ipython",
    "version": 3
   },
   "file_extension": ".py",
   "mimetype": "text/x-python",
   "name": "python",
   "nbconvert_exporter": "python",
   "pygments_lexer": "ipython3",
   "version": "3.9.1"
  }
 },
 "nbformat": 4,
 "nbformat_minor": 4
}
