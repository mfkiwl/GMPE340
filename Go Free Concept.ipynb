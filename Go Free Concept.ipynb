{
 "cells": [
  {
   "cell_type": "markdown",
   "metadata": {},
   "source": [
    "# Go-Free Concept {-}\n",
    "\n",
    "Simple GNSS clock bias model"
   ]
  },
  {
   "cell_type": "code",
   "execution_count": 1,
   "metadata": {},
   "outputs": [],
   "source": [
    "from numpy import array, eye, printoptions\n",
    "from numpy.linalg import inv\n",
    "\n",
    "# Design matrix\n",
    "H = array([[-0.7460,  0.4689, -0.4728, 1],\n",
    "           [ 0.8607,  0.3446, -0.3747, 1],\n",
    "           [-0.2109, -0.3503, -0.9126, 1],\n",
    "           [ 0.0619,  0.4967, -0.8657, 1],\n",
    "           [ 0.7249, -0.4760, -0.4980, 1],\n",
    "           [ 0.4009, -0.1274, -0.9072, 1]])\n",
    "\n",
    "# Difference matrix\n",
    "B = array([[1, -1, 0, 0, 0, 0],\n",
    "           [1, 0, -1, 0, 0, 0],\n",
    "           [1, 0, 0, -1, 0, 0],\n",
    "           [1, 0, 0, 0, -1, 0],\n",
    "           [1, 0, 0, 0, 0, -1]])\n",
    "\n",
    "# Measurement covariance matrix\n",
    "R = 5**2*eye(6)"
   ]
  },
  {
   "cell_type": "markdown",
   "metadata": {
    "tags": []
   },
   "source": [
    "## State elimination {-}"
   ]
  },
  {
   "cell_type": "code",
   "execution_count": 2,
   "metadata": {},
   "outputs": [
    {
     "name": "stdout",
     "output_type": "stream",
     "text": [
      "[[ 17.0411   9.4092 -13.6752]\n",
      " [  9.4092  33.699  -19.5357]\n",
      " [-13.6752 -19.5357  96.252 ]]\n"
     ]
    }
   ],
   "source": [
    "# Design matrix (modified)\n",
    "Hm = B@H\n",
    "Hm = Hm[:,0:3]\n",
    "\n",
    "# Measurement covariance matrix\n",
    "Rm = B@R@B.T\n",
    "\n",
    "# Inital state covariance matrix\n",
    "P0 = array([[100**2, 0, 0],\n",
    "            [0, 100**2, 0],\n",
    "            [0, 0, 100**2]])\n",
    "\n",
    "# Kalman gain\n",
    "K = P0@Hm.T@inv(Hm@P0@Hm.T + Rm)\n",
    "\n",
    "# Measurement update\n",
    "P = (eye(3)-K@Hm)@P0@(eye(3)-K@Hm).T + K@Rm@K.T\n",
    "\n",
    "with printoptions(precision=4, suppress=True):\n",
    "    print(P)"
   ]
  },
  {
   "cell_type": "markdown",
   "metadata": {},
   "source": [
    "## \"Boosted\" Q approach {-}"
   ]
  },
  {
   "cell_type": "code",
   "execution_count": 3,
   "metadata": {},
   "outputs": [
    {
     "name": "stdout",
     "output_type": "stream",
     "text": [
      "[[   17.0411     9.4092   -13.6752   -12.8465]\n",
      " [    9.4092    33.699    -19.5357   -16.8387]\n",
      " [  -13.6752   -19.5357    96.252     68.3138]\n",
      " [  -12.8465   -16.8387    68.3138 23448.6711]]\n"
     ]
    }
   ],
   "source": [
    "# Inital state covariance matrix\n",
    "P0 = array([[100**2, 0, 0, 0],\n",
    "            [0, 100**2, 0 ,0],\n",
    "            [0, 0, 100**2, 0],\n",
    "            [0, 0, 0, 10e12]])\n",
    "\n",
    "# Kalman gain\n",
    "K = P0@H.T@inv(H@P0@H.T + R)\n",
    "\n",
    "# Measurement update\n",
    "P = (eye(4)-K@H)@P0@(eye(4)-K@H).T + K@R@K.T\n",
    "\n",
    "with printoptions(precision=4, suppress=True):\n",
    "    print(P)"
   ]
  }
 ],
 "metadata": {
  "kernelspec": {
   "display_name": "Python 3",
   "language": "python",
   "name": "python3"
  },
  "language_info": {
   "codemirror_mode": {
    "name": "ipython",
    "version": 3
   },
   "file_extension": ".py",
   "mimetype": "text/x-python",
   "name": "python",
   "nbconvert_exporter": "python",
   "pygments_lexer": "ipython3",
   "version": "3.9.1"
  }
 },
 "nbformat": 4,
 "nbformat_minor": 4
}
