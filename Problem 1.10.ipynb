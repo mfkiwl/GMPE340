{
 "cells": [
  {
   "cell_type": "markdown",
   "metadata": {},
   "source": [
    "# Solution {-}\n",
    "\n",
    "Consider a sequence of random binary digits. Each digit may be thought of as an independent sample from a sample space containing two elements, each having a probabitiy of $\\frac{1}{2}$."
   ]
  },
  {
   "cell_type": "code",
   "execution_count": 1,
   "metadata": {},
   "outputs": [
    {
     "name": "stdout",
     "output_type": "stream",
     "text": [
      "The probability of 3 zeros and 3 ones is: 0.312 (31.2%)\n",
      "The probability of 4 zeros and 2 ones is: 0.234 (23.4%)\n",
      "The probability of 5 zeros and 1 ones is: 0.094 ( 9.4%)\n",
      "The probability of 6 zeros and 0 ones is: 0.016 ( 1.6%)\n"
     ]
    }
   ],
   "source": [
    "from itertools import product\n",
    "\n",
    "possible_numbers = {0, 1}\n",
    "\n",
    "sample_space = set(product(possible_numbers, repeat=6))\n",
    "\n",
    "def get_event(event_condition, sample_space):\n",
    "    return set([outcome for outcome in sample_space\n",
    "                if event_condition(outcome)])\n",
    "\n",
    "def compute_event_probability(event_condition, generic_sample_space):\n",
    "    event = get_event(event_condition, generic_sample_space)\n",
    "    if type(generic_sample_space) == type(set()):\n",
    "        return len(event)/len(generic_sample_space)\n",
    "\n",
    "    event_size = sum(generic_sample_space[outcome]\n",
    "                     for outcome in event)\n",
    "    return event_size/sum(generic_sample_space.values())\n",
    "\n",
    "def has_3_zeros_and_3_ones(outcome):\n",
    "    return len([num for num in outcome\n",
    "                if num == 0]) == 3\n",
    "\n",
    "def has_4_zeros_and_2_ones(outcome):\n",
    "    return len([num for num in outcome\n",
    "                if num == 0]) == 4\n",
    "\n",
    "def has_5_zeros_and_1_ones(outcome):\n",
    "    return len([num for num in outcome\n",
    "                if num == 0]) == 5\n",
    "\n",
    "def has_6_zeros_and_0_ones(outcome):\n",
    "    return len([num for num in outcome\n",
    "                if num == 0]) == 6\n",
    "\n",
    "prob3 = compute_event_probability(has_3_zeros_and_3_ones, sample_space)\n",
    "prob4 = compute_event_probability(has_4_zeros_and_2_ones, sample_space)\n",
    "prob5 = compute_event_probability(has_5_zeros_and_1_ones, sample_space)\n",
    "prob6 = compute_event_probability(has_6_zeros_and_0_ones, sample_space)\n",
    "\n",
    "print(\"The probability of 3 zeros and 3 ones is: %.3f (%4.1f%%)\" % (prob3, prob3*100))\n",
    "print(\"The probability of 4 zeros and 2 ones is: %.3f (%4.1f%%)\" % (prob4, prob4*100))\n",
    "print(\"The probability of 5 zeros and 1 ones is: %.3f (%4.1f%%)\" % (prob5, prob5*100))\n",
    "print(\"The probability of 6 zeros and 0 ones is: %.3f (%4.1f%%)\" % (prob6, prob6*100))"
   ]
  }
 ],
 "metadata": {
  "kernelspec": {
   "display_name": "Python 3",
   "language": "python",
   "name": "python3"
  },
  "language_info": {
   "codemirror_mode": {
    "name": "ipython",
    "version": 3
   },
   "file_extension": ".py",
   "mimetype": "text/x-python",
   "name": "python",
   "nbconvert_exporter": "python",
   "pygments_lexer": "ipython3",
   "version": "3.9.1"
  }
 },
 "nbformat": 4,
 "nbformat_minor": 4
}
