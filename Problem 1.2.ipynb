{
 "cells": [
  {
   "cell_type": "markdown",
   "metadata": {},
   "source": [
    "# Solution {-}\n",
    "\n",
    "In the game of blackjack, the player initially dealt two cards from a deck of ordinary playing cards.\n",
    "\n",
    " 1. What is the probability of being dealt any ace together with any face card or a 10?"
   ]
  },
  {
   "cell_type": "code",
   "execution_count": 1,
   "metadata": {},
   "outputs": [
    {
     "name": "stdout",
     "output_type": "stream",
     "text": [
      "The probability of being dealt any ace together with any face card or a 10 is: 0.048265 (4.8%) \n"
     ]
    }
   ],
   "source": [
    "from numpy import arange\n",
    "from itertools import combinations\n",
    "\n",
    "deck = arange(0, 52)\n",
    "\n",
    "hands = len(list(combinations(deck, 2)))\n",
    "best_hand = (4*16)/hands\n",
    "\n",
    "print(\"The probability of being dealt any ace together with any face card or a 10 is: %.6f (%.1f%%) \" % (best_hand, best_hand*100))"
   ]
  }
 ],
 "metadata": {
  "kernelspec": {
   "display_name": "Python 3",
   "language": "python",
   "name": "python3"
  },
  "language_info": {
   "codemirror_mode": {
    "name": "ipython",
    "version": 3
   },
   "file_extension": ".py",
   "mimetype": "text/x-python",
   "name": "python",
   "nbconvert_exporter": "python",
   "pygments_lexer": "ipython3",
   "version": "3.9.1"
  }
 },
 "nbformat": 4,
 "nbformat_minor": 4
}
