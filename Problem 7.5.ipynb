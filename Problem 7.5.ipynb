{
 "cells": [
  {
   "cell_type": "markdown",
   "metadata": {},
   "source": [
    "# Solution {-}"
   ]
  },
  {
   "cell_type": "code",
   "execution_count": 1,
   "metadata": {},
   "outputs": [
    {
     "name": "stdout",
     "output_type": "stream",
     "text": [
      "[[-23.1  ]\n",
      " [ -6.6  ]\n",
      " [  2.842]]\n",
      "[[5.633 3.8   0.216]\n",
      " [3.8   5.5   0.02 ]\n",
      " [0.216 0.02  1.162]]\n"
     ]
    }
   ],
   "source": [
    "from numpy import array, printoptions, random, zeros\n",
    "from scipy.linalg import sqrtm, cholesky\n",
    "\n",
    "# State vector\n",
    "x = array([[-16.5],\n",
    "           [-6.6],\n",
    "           [2.9]])\n",
    "\n",
    "# Covariance matrix\n",
    "P = array([[ 3.2, -1.2,  0.2],\n",
    "           [-1.2,  4.5,  0.02],\n",
    "           [ 0.2,  0.02, 1.2]])\n",
    "\n",
    "# Transistion \n",
    "phi = array([[1, 1, 0],\n",
    "             [0, 1, 0],\n",
    "             [0, 0, 0.98]])\n",
    "\n",
    "# Process noise matrix\n",
    "Q = array([[1/3, 1/2, 0],\n",
    "           [1/2,   1, 0],\n",
    "           [  0,   0, 0.01]])\n",
    "\n",
    "\n",
    "# Time update\n",
    "xp = phi@x\n",
    "Pp = phi@P@phi.T + Q\n",
    "\n",
    "with printoptions(precision=3, suppress=True):\n",
    "    print(xp)\n",
    "    print(Pp)"
   ]
  },
  {
   "cell_type": "markdown",
   "metadata": {},
   "source": [
    "## Monte Carlo Simulation\n",
    "\n"
   ]
  },
  {
   "cell_type": "code",
   "execution_count": 2,
   "metadata": {},
   "outputs": [
    {
     "name": "stdout",
     "output_type": "stream",
     "text": [
      "[[-23.04095]\n",
      " [ -6.61459]\n",
      " [  2.83809]]\n",
      "[[5.53555 3.75283 0.24149]\n",
      " [3.75283 5.56028 0.01002]\n",
      " [0.24149 0.01002 1.16048]]\n"
     ]
    }
   ],
   "source": [
    "n = 10000\n",
    "sum = zeros([3, 1])\n",
    "sumsq = zeros([3, 3])\n",
    "\n",
    "# Matrix square root\n",
    "Psqrt = sqrtm(P)\n",
    "Qsqrt = sqrtm(Q)\n",
    "\n",
    "# Cholesky\n",
    "#Psqrt = cholesky(P)\n",
    "#Qsqrt = cholesky(Q)\n",
    "\n",
    "for i in range(0, n):\n",
    "    xs = x + Psqrt@random.normal(0, 1, [3, 1])\n",
    "    ws = Qsqrt@random.normal(0, 1, [3, 1])\n",
    "    xp = phi@xs + ws\n",
    "    \n",
    "    sum = sum + xp\n",
    "    sumsq = sumsq + xp@xp.T\n",
    "    \n",
    "xpm = sum/n\n",
    "Ppm = sumsq/n - xpm@xpm.T\n",
    "\n",
    "with printoptions(precision=5, suppress=True):\n",
    "    print(xpm)\n",
    "    print(Ppm)"
   ]
  }
 ],
 "metadata": {
  "kernelspec": {
   "display_name": "Python 3",
   "language": "python",
   "name": "python3"
  },
  "language_info": {
   "codemirror_mode": {
    "name": "ipython",
    "version": 3
   },
   "file_extension": ".py",
   "mimetype": "text/x-python",
   "name": "python",
   "nbconvert_exporter": "python",
   "pygments_lexer": "ipython3",
   "version": "3.9.1"
  }
 },
 "nbformat": 4,
 "nbformat_minor": 4
}
