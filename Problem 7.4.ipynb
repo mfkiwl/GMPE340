{
 "cells": [
  {
   "cell_type": "markdown",
   "id": "3e1638d7-4c32-4373-9c2b-f563a83038a8",
   "metadata": {},
   "source": [
    "# Solution {-}"
   ]
  },
  {
   "cell_type": "code",
   "execution_count": 1,
   "id": "5aee0bf6-587c-4b03-b180-5a3da3f58d9c",
   "metadata": {},
   "outputs": [
    {
     "data": {
      "text/latex": [
       "$\\displaystyle \\left[\\begin{matrix}\\frac{x - xA}{\\sqrt{\\left(- x + xA\\right)^{2} + \\left(- y + yA\\right)^{2}}} & 0 & \\frac{y - yA}{\\sqrt{\\left(- x + xA\\right)^{2} + \\left(- y + yA\\right)^{2}}} & 0\\\\\\frac{x - xB}{\\sqrt{\\left(- x + xB\\right)^{2} + \\left(- y + yB\\right)^{2}}} & 0 & \\frac{y - yB}{\\sqrt{\\left(- x + xB\\right)^{2} + \\left(- y + yB\\right)^{2}}} & 0\\end{matrix}\\right]$"
      ],
      "text/plain": [
       "Matrix([\n",
       "[(x - xA)/sqrt((-x + xA)**2 + (-y + yA)**2), 0, (y - yA)/sqrt((-x + xA)**2 + (-y + yA)**2), 0],\n",
       "[(x - xB)/sqrt((-x + xB)**2 + (-y + yB)**2), 0, (y - yB)/sqrt((-x + xB)**2 + (-y + yB)**2), 0]])"
      ]
     },
     "metadata": {},
     "output_type": "display_data"
    }
   ],
   "source": [
    "from sympy import Matrix, symbols, sqrt\n",
    "\n",
    "xA, yA, xB, yB, r1, r2, x, xdot, y, ydot = symbols('xA, yA, xB, yB, r1 r2 x xdot y ydot')\n",
    "\n",
    "# Measurement equation\n",
    "r1 = sqrt((xA - x)**2 + (yA - y)**2)\n",
    "r2 = sqrt((xB - x)**2 + (yB - y)**2)\n",
    "\n",
    "# State vector\n",
    "x = Matrix([[x],\n",
    "            [xdot],\n",
    "            [y],\n",
    "            [ydot]])\n",
    "\n",
    "H = Matrix([[r1],\n",
    "            [r2]])\n",
    "dH = H.jacobian(x)\n",
    "display(dH)"
   ]
  },
  {
   "cell_type": "code",
   "execution_count": 2,
   "id": "81fcbb86-7fb8-497e-9c4c-7d54944d8059",
   "metadata": {},
   "outputs": [
    {
     "data": {
      "image/png": "[encoded data removed]",
      "text/plain": [
       "<Figure size 432x288 with 1 Axes>"
      ]
     },
     "metadata": {
      "needs_background": "light"
     },
     "output_type": "display_data"
    }
   ],
   "source": [
    "from numpy import array, exp, sqrt, arange, eye, kron, diag, zeros, column_stack\n",
    "from numpy.linalg import inv, norm\n",
    "from lib.vanloan import numeval\n",
    "import matplotlib.pyplot as plt\n",
    "\n",
    "dt = 1\n",
    "samples = 200\n",
    "d = 10000\n",
    "\n",
    "# Initial standard deviation\n",
    "sigmap = sqrt(2000)  # Position [meter]\n",
    "sigmav = 30          # Velocity [meter/second]\n",
    "sigmar = 15          # Range [meter]\n",
    "\n",
    "# Gauss-Markov process parameters\n",
    "beta = 0.01  # Time constant [rad/second]\n",
    "sigma = 30   # [meter/second]\n",
    "\n",
    "# DME station coordinates (x, y)\n",
    "dme1 = [-10000, 0]\n",
    "dme2 = [ 10000, 0]\n",
    "dme = column_stack([dme1, dme2])  # Make columnvector\n",
    "\n",
    "# Dynamic matrix (2D)\n",
    "F0 = array([[0, 1],\n",
    "            [0, -beta]])\n",
    "F = kron(eye(2), F0)\n",
    "\n",
    "# White noise coefficients (2D)\n",
    "G0 = array([[0],\n",
    "           [sqrt(2*sigma**2*beta)]])\n",
    "G = kron(eye(2), G0)\n",
    "\n",
    "# Numerical evaluation (Van Loan)\n",
    "phi, Q = numeval(F, G, dt)\n",
    "\n",
    "# Inital state covariance matrix\n",
    "P0 = array([[sigmap**2, 0],\n",
    "            [0, sigmav**2]])\n",
    "P = kron(eye(2), P0)\n",
    "\n",
    "# Initial measurement covariance matrix\n",
    "R = sigmar**2*diag([2, 2])\n",
    "\n",
    "# Linearized design matrix\n",
    "def dH(xs, xnom):\n",
    "    \n",
    "    dH = zeros([2, 4])\n",
    "    \n",
    "    dx = xs - xnom\n",
    "    \n",
    "    dH[0] = [-dx[0, 0]/norm(dx[:, 0]), 1, -dx[1, 0]/norm(dx[:, 0]), 0]\n",
    "    dH[1] = [-dx[0, 1]/norm(dx[:, 1]), 0, -dx[1, 1]/norm(dx[:, 1]), 1]\n",
    "    \n",
    "    return dH\n",
    "    \n",
    "\n",
    "# Initialize plot vectors\n",
    "P_all = []\n",
    "\n",
    "# Main loop\n",
    "for k in range(0, samples):\n",
    "    \n",
    "    # Nominal trajectory\n",
    "    xnom = array([[0],\n",
    "                  [-10000 + 100*k]])\n",
    "    \n",
    "    H = dH(dme, xnom)\n",
    "    \n",
    "    # Time update\n",
    "    Pp = phi@P@phi.T + Q\n",
    "    \n",
    "    # Design matrix\n",
    "    #h11 = d/sqrt(d**2 + ynom**2)\n",
    "    #h12 = ynom/sqrt(d**2 + ynom**2)\n",
    "    #h21 = -d/sqrt(d**2 + ynom**2)\n",
    "    #h22 = ynom/sqrt(d**2 + ynom**2)\n",
    "    #\n",
    "    #H = array([[h11, 1, h12, 0],\n",
    "    #           [h21, 0, h22, 1]])\n",
    "    \n",
    "    # Measurement update\n",
    "    K = Pp@H.T@inv(H@Pp@H.T + R)\n",
    "    P = (eye(4) - K@H)@Pp\n",
    "    \n",
    "    # Accumulate plot vectors\n",
    "    P_all.append(P)\n",
    "\n",
    "# Time vector\n",
    "time = arange(0, samples)\n",
    "\n",
    "# Extract plot vectors\n",
    "std_x = [sqrt(P[0, 0]) for P in P_all]  # Standard deviation x-direction\n",
    "std_y = [sqrt(P[2, 2]) for P in P_all]  # Standard deviation y-direction\n",
    "\n",
    "# Plot results\n",
    "plt.title('Error Analysis')\n",
    "plt.plot(time, std_x, 'r', label='std_x')\n",
    "plt.plot(time, std_y, 'g', label='std_y')\n",
    "plt.xlabel('Time [second]')\n",
    "plt.ylabel('Standard deviation [meter]')\n",
    "plt.legend()\n",
    "plt.grid()\n",
    "plt.show()"
   ]
  },
  {
   "cell_type": "markdown",
   "id": "53f98879-e5a5-45d8-a4b7-a374b51ae8cb",
   "metadata": {},
   "source": [
    "### Comment\n",
    "The increase in variance in y-direction is due to the lack of observability of the y-component of from the range measurements close to the origin. However, the geometry of the x-component is good throughout the whole flight."
   ]
  }
 ],
 "metadata": {
  "kernelspec": {
   "display_name": "Python 3",
   "language": "python",
   "name": "python3"
  },
  "language_info": {
   "codemirror_mode": {
    "name": "ipython",
    "version": 3
   },
   "file_extension": ".py",
   "mimetype": "text/x-python",
   "name": "python",
   "nbconvert_exporter": "python",
   "pygments_lexer": "ipython3",
   "version": "3.9.1"
  }
 },
 "nbformat": 4,
 "nbformat_minor": 5
}
