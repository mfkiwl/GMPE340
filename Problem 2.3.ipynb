{
 "cells": [
  {
   "cell_type": "markdown",
   "metadata": {},
   "source": [
    "# Solution {-}\n",
    "\n",
    "Given the following spectral density function:\n",
    "\n",
    "\\begin{equation*}\n",
    "  S(j\\omega)=\\delta(\\omega)+\\frac{1}{2}\\delta(\\omega-\\omega_0)+\\frac{1}{2}\\delta(\\omega+\\omega_0)+\\frac{2}{\\omega^2+1}\n",
    "\\end{equation*}\n",
    "\n",
    "1. Find the autocorrelation function\n",
    "\n",
    "\\begin{align*}\n",
    "  R(\\tau)=&\\frac{1}{2\\pi}+\\frac{1}{4\\pi}e^{j\\omega_0\\tau}+\\frac{1}{4\\pi}e^{-j\\omega_0\\tau}+e^{-|\\tau|}\\\\\n",
    "         =&\\frac{1}{2\\pi}+\\frac{1}{4\\pi}\\cos \\omega_0\\tau+e^{-|\\tau|}\n",
    "\\end{align*}"
   ]
  },
  {
   "cell_type": "code",
   "execution_count": 1,
   "metadata": {},
   "outputs": [
    {
     "data": {
      "text/latex": [
       "$\\displaystyle \\delta\\left(\\omega\\right) + 0.5 \\delta\\left(\\omega - \\omega_{0}\\right) + 0.5 \\delta\\left(\\omega + \\omega_{0}\\right) + \\frac{2}{\\omega^{2} + 1}$"
      ],
      "text/plain": [
       "DiracDelta(omega) + 0.5*DiracDelta(omega - omega_0) + 0.5*DiracDelta(omega + omega_0) + 2/(omega**2 + 1)"
      ]
     },
     "execution_count": 1,
     "metadata": {},
     "output_type": "execute_result"
    }
   ],
   "source": [
    "from sympy import symbols, inverse_fourier_transform, DiracDelta, pi\n",
    "\n",
    "t, w,  w0 = symbols('tau omega omega_0')\n",
    "\n",
    "S = DiracDelta(w) + 1/2*DiracDelta(w - w0) + 1/2*DiracDelta(w + w0) + 2/(w**2 + 1)\n",
    "S"
   ]
  },
  {
   "cell_type": "code",
   "execution_count": 2,
   "metadata": {},
   "outputs": [
    {
     "data": {
      "text/latex": [
       "$\\displaystyle \\frac{0.5 e^{2 i \\pi \\omega_{0} \\tau} + 1 + 0.5 e^{- 2 i \\pi \\omega_{0} \\tau} + 2 \\pi e^{- 2 \\pi \\tau}}{2 \\pi}$"
      ],
      "text/plain": [
       "(0.5*exp(2*I*pi*omega_0*tau) + 1 + 0.5*exp(-2*I*pi*omega_0*tau) + 2*pi*exp(-2*pi*tau))/(2*pi)"
      ]
     },
     "execution_count": 2,
     "metadata": {},
     "output_type": "execute_result"
    }
   ],
   "source": [
    "R = 1/(2*pi)*inverse_fourier_transform(S, w, t)\n",
    "R"
   ]
  }
 ],
 "metadata": {
  "kernelspec": {
   "display_name": "Python 3",
   "language": "python",
   "name": "python3"
  },
  "language_info": {
   "codemirror_mode": {
    "name": "ipython",
    "version": 3
   },
   "file_extension": ".py",
   "mimetype": "text/x-python",
   "name": "python",
   "nbconvert_exporter": "python",
   "pygments_lexer": "ipython3",
   "version": "3.9.1"
  }
 },
 "nbformat": 4,
 "nbformat_minor": 4
}
