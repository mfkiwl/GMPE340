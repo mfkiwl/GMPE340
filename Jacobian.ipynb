{
 "cells": [
  {
   "cell_type": "code",
   "execution_count": 1,
   "id": "a8468058-285b-4290-aff3-5ed4887ae1f1",
   "metadata": {},
   "outputs": [
    {
     "data": {
      "text/latex": [
       "$\\displaystyle \\left[\\begin{matrix}\\sqrt{x_{1}^{2} + x_{3}^{2}}\\end{matrix}\\right]$"
      ],
      "text/plain": [
       "Matrix([[sqrt(x1**2 + x3**2)]])"
      ]
     },
     "metadata": {},
     "output_type": "display_data"
    },
    {
     "data": {
      "text/latex": [
       "$\\displaystyle \\left[\\begin{matrix}x_{1}\\\\x_{2}\\\\x_{3}\\end{matrix}\\right]$"
      ],
      "text/plain": [
       "Matrix([\n",
       "[x1],\n",
       "[x2],\n",
       "[x3]])"
      ]
     },
     "metadata": {},
     "output_type": "display_data"
    },
    {
     "data": {
      "text/latex": [
       "$\\displaystyle \\left[\\begin{matrix}\\frac{x_{1}}{\\sqrt{x_{1}^{2} + x_{3}^{2}}} & 0 & \\frac{x_{3}}{\\sqrt{x_{1}^{2} + x_{3}^{2}}}\\end{matrix}\\right]$"
      ],
      "text/plain": [
       "Matrix([[x1/sqrt(x1**2 + x3**2), 0, x3/sqrt(x1**2 + x3**2)]])"
      ]
     },
     "metadata": {},
     "output_type": "display_data"
    }
   ],
   "source": [
    "from sympy import Matrix, symbols, sqrt, asin\n",
    "\n",
    "x1, x2, x3, x4, K, r, Re, alpha0, theta = symbols('x1 x2 x3 x4 K r Re alpha0 theta')\n",
    "\n",
    "H = Matrix([[sqrt(x1**2 + x3**2)]])\n",
    "display(H)\n",
    "\n",
    "x = Matrix([[x1],\n",
    "            [x2],\n",
    "            [x3]])\n",
    "display(x)\n",
    "\n",
    "dH = H.jacobian(x)\n",
    "display(dH)"
   ]
  },
  {
   "cell_type": "code",
   "execution_count": 2,
   "id": "f45c8598-cf8b-43a6-863f-32be5f0c3a17",
   "metadata": {},
   "outputs": [
    {
     "data": {
      "text/latex": [
       "$\\displaystyle \\left[\\begin{matrix}x_{1}\\\\x_{2}\\\\x_{3}\\\\x_{4}\\end{matrix}\\right]$"
      ],
      "text/plain": [
       "Matrix([\n",
       "[x1],\n",
       "[x2],\n",
       "[x3],\n",
       "[x4]])"
      ]
     },
     "metadata": {},
     "output_type": "display_data"
    },
    {
     "data": {
      "text/latex": [
       "$\\displaystyle \\left[\\begin{matrix}x_{2}\\\\- \\frac{K}{x_{1}^{2}} + x_{1} x_{4}^{2}\\\\x_{4}\\\\- \\frac{2 x_{2} x_{4}}{x_{1}}\\end{matrix}\\right]$"
      ],
      "text/plain": [
       "Matrix([\n",
       "[                 x2],\n",
       "[-K/x1**2 + x1*x4**2],\n",
       "[                 x4],\n",
       "[        -2*x2*x4/x1]])"
      ]
     },
     "metadata": {},
     "output_type": "display_data"
    },
    {
     "data": {
      "text/latex": [
       "$\\displaystyle \\left[\\begin{matrix}0 & 1 & 0 & 0\\\\\\frac{2 K}{x_{1}^{3}} + x_{4}^{2} & 0 & 0 & 2 x_{1} x_{4}\\\\0 & 0 & 0 & 1\\\\\\frac{2 x_{2} x_{4}}{x_{1}^{2}} & - \\frac{2 x_{4}}{x_{1}} & 0 & - \\frac{2 x_{2}}{x_{1}}\\end{matrix}\\right]$"
      ],
      "text/plain": [
       "Matrix([\n",
       "[                0,        1, 0,        0],\n",
       "[2*K/x1**3 + x4**2,        0, 0,  2*x1*x4],\n",
       "[                0,        0, 0,        1],\n",
       "[    2*x2*x4/x1**2, -2*x4/x1, 0, -2*x2/x1]])"
      ]
     },
     "metadata": {},
     "output_type": "display_data"
    },
    {
     "data": {
      "text/latex": [
       "$\\displaystyle \\left[\\begin{matrix}\\operatorname{asin}{\\left(\\frac{Re}{x_{1}} \\right)}\\\\\\alpha_{0} - x_{3}\\end{matrix}\\right]$"
      ],
      "text/plain": [
       "Matrix([\n",
       "[asin(Re/x1)],\n",
       "[alpha0 - x3]])"
      ]
     },
     "metadata": {},
     "output_type": "display_data"
    },
    {
     "data": {
      "text/latex": [
       "$\\displaystyle \\left[\\begin{matrix}- \\frac{Re}{x_{1}^{2} \\sqrt{- \\frac{Re^{2}}{x_{1}^{2}} + 1}} & 0 & 0 & 0\\\\0 & 0 & -1 & 0\\end{matrix}\\right]$"
      ],
      "text/plain": [
       "Matrix([\n",
       "[-Re/(x1**2*sqrt(-Re**2/x1**2 + 1)), 0,  0, 0],\n",
       "[                                 0, 0, -1, 0]])"
      ]
     },
     "metadata": {},
     "output_type": "display_data"
    }
   ],
   "source": [
    "x = Matrix([[x1],\n",
    "            [x2],\n",
    "            [x3],\n",
    "            [x4]])\n",
    "display(x)\n",
    "\n",
    "F = Matrix([[x2],\n",
    "            [x1*x4**2 - K/x1**2],\n",
    "            [x4],\n",
    "            [-2*x2*x4/x1]])\n",
    "display(F)\n",
    "\n",
    "dF = F.jacobian(x)\n",
    "display(dF)\n",
    "\n",
    "H = Matrix([[asin(Re/x1)],\n",
    "            [alpha0 - x3]])\n",
    "display(H)\n",
    "\n",
    "dH = H.jacobian(x)\n",
    "display(dH)"
   ]
  }
 ],
 "metadata": {
  "kernelspec": {
   "display_name": "Python 3",
   "language": "python",
   "name": "python3"
  },
  "language_info": {
   "codemirror_mode": {
    "name": "ipython",
    "version": 3
   },
   "file_extension": ".py",
   "mimetype": "text/x-python",
   "name": "python",
   "nbconvert_exporter": "python",
   "pygments_lexer": "ipython3",
   "version": "3.9.1"
  }
 },
 "nbformat": 4,
 "nbformat_minor": 5
}
