{
 "cells": [
  {
   "cell_type": "markdown",
   "id": "11289201-244c-402c-bb1d-3faf3c6c5a4d",
   "metadata": {},
   "source": [
    "# Sample Mean and Variance\n",
    "Computing mean and variance from a set of measurements from a laser scanner. A trolley on rails is standing at rest while the laser scanner measures the distance to the wall. Thus the variations in the measurements reflects the presicion of the laser scanner instrument.\n",
    "\n",
    "![laserscan](laserscan.png)"
   ]
  },
  {
   "cell_type": "code",
   "execution_count": 1,
   "id": "b436ce52-2a37-49e6-a60e-88a6e6e1b096",
   "metadata": {},
   "outputs": [
    {
     "name": "stdout",
     "output_type": "stream",
     "text": [
      "Estimated distance: 50.24 m\n",
      "Standard deviation: 1.20 m\n",
      "Standard error: 0.38 m\n"
     ]
    }
   ],
   "source": [
    "from numpy import mean, std, sqrt, arange\n",
    "import matplotlib.pyplot as plt\n",
    "\n",
    "# Measurements\n",
    "x = [51.34, 48.17, 49.02, 50.97, 51.23, 50.72, 48.95, 49.45, 52.07, 50.52] # [meter]\n",
    "\n",
    "mu = mean(x)\n",
    "sd = std(x)\n",
    "se = sd/sqrt(len(x))\n",
    "\n",
    "print(\"Estimated distance: %.2f m\" % mu)\n",
    "print(\"Standard deviation: %.2f m\" % sd)\n",
    "print(\"Standard error: %.2f m\" % se)"
   ]
  },
  {
   "cell_type": "markdown",
   "id": "5a5aa1a3-0444-4092-9cb6-19c5556202e0",
   "metadata": {},
   "source": [
    "## Recursive algorithm"
   ]
  },
  {
   "cell_type": "markdown",
   "id": "8d89a62b-22c5-465b-b434-4abfe8d6a7b9",
   "metadata": {},
   "source": [
    "$$\n",
    "\\begin{split}\n",
    "  \\bar{x}_N =& \\frac{1}{N}\\sum_{i=1}^N x_i \\\\\n",
    "  &\\vdots \\\\\n",
    "  \\bar{x}_n =& \\bar{x}_{n - 1} + \\frac{1}{n}(x_n - \\bar{x}_{n - 1}) \\\\\n",
    "\\end{split}\n",
    "$$"
   ]
  },
  {
   "cell_type": "code",
   "execution_count": 2,
   "id": "4a1b2aa2-14d9-4556-a56c-80b610741925",
   "metadata": {},
   "outputs": [
    {
     "name": "stdout",
     "output_type": "stream",
     "text": [
      "Measurement 01 -> estimated distance: 51.34 m\n",
      "Measurement 02 -> estimated distance: 49.76 m\n",
      "Measurement 03 -> estimated distance: 49.51 m\n",
      "Measurement 04 -> estimated distance: 49.88 m\n",
      "Measurement 05 -> estimated distance: 50.15 m\n",
      "Measurement 06 -> estimated distance: 50.24 m\n",
      "Measurement 07 -> estimated distance: 50.06 m\n",
      "Measurement 08 -> estimated distance: 49.98 m\n",
      "Measurement 09 -> estimated distance: 50.21 m\n",
      "Measurement 10 -> estimated distance: 50.24 m\n"
     ]
    },
    {
     "data": {
      "image/png": "[encoded data removed]",
      "text/plain": [
       "<Figure size 432x288 with 1 Axes>"
      ]
     },
     "metadata": {
      "needs_background": "light"
     },
     "output_type": "display_data"
    }
   ],
   "source": [
    "# Initial estimate\n",
    "x_bar = x[0]\n",
    "\n",
    "# Number of elements\n",
    "N = len(x)\n",
    "\n",
    "# Initialize plot vectors\n",
    "x_all = []; meas_all = []\n",
    "\n",
    "for n in range(0, N):\n",
    "    x_bar = x_bar + 1/(n + 1)*(x[n] - x_bar)\n",
    "    print(\"Measurement %02d -> estimated distance: %.2f m\" % (n + 1, x_bar))\n",
    "    \n",
    "    # Accumulate plot vectors\n",
    "    x_all.append(x_bar)\n",
    "    meas_all.append(x[n])\n",
    "    \n",
    "# Define x-axis values\n",
    "xn = arange(1, N + 1)\n",
    "\n",
    "# Plot the results\n",
    "plt.title(\"Accumulated mean value\")\n",
    "plt.plot(xn, x_all, color='g', label='Estimated distance')\n",
    "plt.plot(xn, meas_all, color='r', marker='o', linestyle='none', label='Measured distance')\n",
    "plt.axhline(y=x_bar, color='m', linestyle='--', label='Mean distance')\n",
    "plt.xlabel('# of measurements')\n",
    "plt.ylabel('Distance [meter]')\n",
    "plt.legend(loc='lower right')\n",
    "plt.grid()\n",
    "plt.show()"
   ]
  }
 ],
 "metadata": {
  "kernelspec": {
   "display_name": "Python 3",
   "language": "python",
   "name": "python3"
  },
  "language_info": {
   "codemirror_mode": {
    "name": "ipython",
    "version": 3
   },
   "file_extension": ".py",
   "mimetype": "text/x-python",
   "name": "python",
   "nbconvert_exporter": "python",
   "pygments_lexer": "ipython3",
   "version": "3.9.1"
  }
 },
 "nbformat": 4,
 "nbformat_minor": 5
}
