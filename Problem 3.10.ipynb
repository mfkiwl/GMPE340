{
 "cells": [
  {
   "cell_type": "markdown",
   "metadata": {
    "tags": []
   },
   "source": [
    "# Solution {-}\n",
    "\n",
    "A certain linear system is known to satisfy the following differential equation:\n",
    "\n",
    "\\begin{align*}\n",
    "  &\\ddot{x}+10\\dot{x}+100x=f(t)\\\\\n",
    "  &x(0)=\\dot{x}(0)=0\\\\\n",
    "\\end{align*}\n",
    "\n",
    "a) The state space differential equation for the random process can be written as:\n",
    "\n",
    "\\begin{equation*}\n",
    "  \\begin{bmatrix}\n",
    "    \\dot{x}_1\\\\\n",
    "    \\dot{x}_2\\\\\n",
    "  \\end{bmatrix} =\n",
    "  \\begin{bmatrix}\n",
    "       0 &  1\\\\\n",
    "    -100 &-10\\\\\n",
    "  \\end{bmatrix}\n",
    "  \\begin{bmatrix}\n",
    "    x_1\\\\\n",
    "    x_2\\\\\n",
    "  \\end{bmatrix}+\n",
    "  \\begin{bmatrix}\n",
    "    0\\\\\n",
    "    \\sqrt{10}\\\\\n",
    "  \\end{bmatrix} f(t)\n",
    "\\end{equation*}\n",
    "\n",
    "b) Compute $\\phi$ and $Q$"
   ]
  },
  {
   "cell_type": "code",
   "execution_count": 1,
   "metadata": {},
   "outputs": [
    {
     "name": "stdout",
     "output_type": "stream",
     "text": [
      "[[ 0.15057437  0.04192796]\n",
      " [-4.1927963  -0.26870526]]\n",
      "[[0.00400766 0.00878977]\n",
      " [0.00878977 0.37600104]]\n"
     ]
    }
   ],
   "source": [
    "from numpy import array, sqrt\n",
    "from lib.vanloan import numeval\n",
    "\n",
    "# Model parameters\n",
    "dt = 0.2\n",
    "W = 1\n",
    "\n",
    "# Dynamics matrix\n",
    "F = array([[0, 1],\n",
    "           [-100, -10]])\n",
    "\n",
    "# White noise coefficients\n",
    "G = array([[0],\n",
    "           [sqrt(10)]])\n",
    "\n",
    "# Van Loan\n",
    "[phi, Q] = numeval(F, G, dt)\n",
    "\n",
    "print(phi)\n",
    "print(Q)"
   ]
  },
  {
   "cell_type": "markdown",
   "metadata": {},
   "source": [
    "c) What are the mean square value of $x(t)$ and $\\dot{x}(t)$ at t=0.2"
   ]
  },
  {
   "cell_type": "code",
   "execution_count": 2,
   "metadata": {},
   "outputs": [
    {
     "name": "stdout",
     "output_type": "stream",
     "text": [
      "0.004\n",
      "0.376\n"
     ]
    }
   ],
   "source": [
    "EX2 = Q[0, 0]\n",
    "print('%.3f' % EX2)\n",
    "\n",
    "EdX2 = Q[1, 1]\n",
    "print('%.3f' % EdX2)"
   ]
  }
 ],
 "metadata": {
  "kernelspec": {
   "display_name": "Python 3",
   "language": "python",
   "name": "python3"
  },
  "language_info": {
   "codemirror_mode": {
    "name": "ipython",
    "version": 3
   },
   "file_extension": ".py",
   "mimetype": "text/x-python",
   "name": "python",
   "nbconvert_exporter": "python",
   "pygments_lexer": "ipython3",
   "version": "3.9.1"
  }
 },
 "nbformat": 4,
 "nbformat_minor": 4
}
