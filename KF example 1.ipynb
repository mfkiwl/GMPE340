{
 "cells": [
  {
   "cell_type": "markdown",
   "id": "57fec478-dcff-4078-ba50-d06bcd4f10b4",
   "metadata": {},
   "source": [
    "# Solution {-}\n",
    "\n",
    "GMPE240 exam 2019, exercise 3"
   ]
  },
  {
   "cell_type": "code",
   "execution_count": 1,
   "id": "db4c6fe8-2547-48bd-a090-f8d6683f1499",
   "metadata": {},
   "outputs": [
    {
     "name": "stdout",
     "output_type": "stream",
     "text": [
      "[[46.187]\n",
      " [ 4.069]]\n",
      "[[1.288 0.157]\n",
      " [0.157 0.647]]\n"
     ]
    }
   ],
   "source": [
    "from numpy import array, sqrt, eye, set_printoptions\n",
    "from lib.vanloan import numeval\n",
    "\n",
    "# System values\n",
    "dt = 10   # [second]\n",
    "q = 0.2   # [(m^2/s^2)/s] <- velocity process noise\n",
    "\n",
    "# Initial values\n",
    "x = array([[5.8],      # [meter]\n",
    "           [3.9]])     # [meter/second]\n",
    "P = array([[2.8, 0],   # [m^2]\n",
    "           [0, 0.7]])  # [m^2/s^2]\n",
    "\n",
    "# Dynamic matrix\n",
    "F = array([[0, 1],\n",
    "           [0, 0]])\n",
    "\n",
    "# White noise coefficients\n",
    "G = array([[0],\n",
    "           [sqrt(q)]])\n",
    "\n",
    "# Design matrix\n",
    "H = array([[1, 0]])\n",
    "\n",
    "# Measurement\n",
    "z = 46.2   # [meter]\n",
    "\n",
    "# Measurement covariance matrix\n",
    "R = array([[1.3]])  # [m^2]\n",
    "\n",
    "# Numerical evaluation (Van Loan)\n",
    "[phi, Q] = numeval(F, G, dt)\n",
    "\n",
    "# Time update\n",
    "x = phi@x\n",
    "P = phi@P@phi.T + Q\n",
    "\n",
    "# Kalman gain\n",
    "K = P@H.T/(H@P@H.T + R)\n",
    "\n",
    "# Measurement update\n",
    "x = x + K@(z - H@x)\n",
    "P = (eye(2) - K@H)@P\n",
    "\n",
    "set_printoptions(precision=3)\n",
    "print(x)\n",
    "print(P)"
   ]
  }
 ],
 "metadata": {
  "kernelspec": {
   "display_name": "Python 3",
   "language": "python",
   "name": "python3"
  },
  "language_info": {
   "codemirror_mode": {
    "name": "ipython",
    "version": 3
   },
   "file_extension": ".py",
   "mimetype": "text/x-python",
   "name": "python",
   "nbconvert_exporter": "python",
   "pygments_lexer": "ipython3",
   "version": "3.9.1"
  }
 },
 "nbformat": 4,
 "nbformat_minor": 5
}
