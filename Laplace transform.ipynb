{
 "cells": [
  {
   "cell_type": "code",
   "execution_count": 1,
   "id": "fd8b724e-2687-4a94-b35e-879cadc8ea73",
   "metadata": {},
   "outputs": [
    {
     "data": {
      "text/plain": [
       "(1 - Heaviside(0), -oo, True)"
      ]
     },
     "execution_count": 1,
     "metadata": {},
     "output_type": "execute_result"
    }
   ],
   "source": [
    "from sympy import symbols, laplace_transform, \\\n",
    "                  DiracDelta, Heaviside, exp, sin, cos\n",
    "\n",
    "s, t, a, n, b = symbols('s t a n b')\n",
    "\n",
    "laplace_transform(DiracDelta(t), t, s)"
   ]
  },
  {
   "cell_type": "code",
   "execution_count": 2,
   "id": "eacd9a2f-16f0-45f2-b5c3-6a6292658447",
   "metadata": {},
   "outputs": [
    {
     "data": {
      "text/latex": [
       "$\\displaystyle \\frac{1}{s}$"
      ],
      "text/plain": [
       "1/s"
      ]
     },
     "execution_count": 2,
     "metadata": {},
     "output_type": "execute_result"
    }
   ],
   "source": [
    "laplace_transform(Heaviside(t), t, s, noconds=True)"
   ]
  },
  {
   "cell_type": "code",
   "execution_count": 3,
   "id": "71fb5b13-3f9a-4acb-8a12-e08fb5e18f2e",
   "metadata": {},
   "outputs": [
    {
     "data": {
      "text/latex": [
       "$\\displaystyle \\frac{1}{s}$"
      ],
      "text/plain": [
       "1/s"
      ]
     },
     "execution_count": 3,
     "metadata": {},
     "output_type": "execute_result"
    }
   ],
   "source": [
    "laplace_transform(1, t, s, noconds=True)"
   ]
  },
  {
   "cell_type": "code",
   "execution_count": 4,
   "id": "9b5b8d6e-c6e2-41dc-b9b8-8a0c4a4d35d7",
   "metadata": {},
   "outputs": [
    {
     "data": {
      "text/latex": [
       "$\\displaystyle \\frac{1}{s^{2}}$"
      ],
      "text/plain": [
       "s**(-2)"
      ]
     },
     "execution_count": 4,
     "metadata": {},
     "output_type": "execute_result"
    }
   ],
   "source": [
    "laplace_transform(t, t, s, noconds=True)"
   ]
  },
  {
   "cell_type": "code",
   "execution_count": 5,
   "id": "5d438217-857c-43d0-9379-324246eeb1f8",
   "metadata": {},
   "outputs": [
    {
     "data": {
      "text/latex": [
       "$\\displaystyle \\frac{s^{- n} \\Gamma\\left(n + 1\\right)}{s}$"
      ],
      "text/plain": [
       "s**(-n)*gamma(n + 1)/s"
      ]
     },
     "execution_count": 5,
     "metadata": {},
     "output_type": "execute_result"
    }
   ],
   "source": [
    "laplace_transform(t**n, t, s, noconds=True)"
   ]
  },
  {
   "cell_type": "code",
   "execution_count": 6,
   "id": "69e19681-b784-4180-9b40-02f169630663",
   "metadata": {},
   "outputs": [
    {
     "data": {
      "text/latex": [
       "$\\displaystyle \\frac{1}{a + s}$"
      ],
      "text/plain": [
       "1/(a + s)"
      ]
     },
     "execution_count": 6,
     "metadata": {},
     "output_type": "execute_result"
    }
   ],
   "source": [
    "laplace_transform(exp(-a*t), t, s, noconds=True)"
   ]
  },
  {
   "cell_type": "code",
   "execution_count": 7,
   "id": "48028c88-1164-40dc-82d6-41936394cf4c",
   "metadata": {},
   "outputs": [
    {
     "data": {
      "text/latex": [
       "$\\displaystyle \\frac{b}{b^{2} + s^{2}}$"
      ],
      "text/plain": [
       "b/(b**2 + s**2)"
      ]
     },
     "execution_count": 7,
     "metadata": {},
     "output_type": "execute_result"
    }
   ],
   "source": [
    "laplace_transform(sin(b*t), t, s, noconds=True)"
   ]
  },
  {
   "cell_type": "code",
   "execution_count": 8,
   "id": "5dfbf289-77ae-4ada-be21-59d052c7bdac",
   "metadata": {},
   "outputs": [
    {
     "data": {
      "text/latex": [
       "$\\displaystyle \\frac{s}{b^{2} + s^{2}}$"
      ],
      "text/plain": [
       "s/(b**2 + s**2)"
      ]
     },
     "execution_count": 8,
     "metadata": {},
     "output_type": "execute_result"
    }
   ],
   "source": [
    "laplace_transform(cos(b*t), t, s, noconds=True)"
   ]
  },
  {
   "cell_type": "code",
   "execution_count": 9,
   "id": "5d0ae487-08d7-4a33-b944-fede757e5673",
   "metadata": {},
   "outputs": [
    {
     "data": {
      "text/latex": [
       "$\\displaystyle \\frac{b}{b^{2} + \\left(a + s\\right)^{2}}$"
      ],
      "text/plain": [
       "b/(b**2 + (a + s)**2)"
      ]
     },
     "execution_count": 9,
     "metadata": {},
     "output_type": "execute_result"
    }
   ],
   "source": [
    "laplace_transform(exp(-a*t)*sin(b*t), t, s, noconds=True)"
   ]
  },
  {
   "cell_type": "code",
   "execution_count": 10,
   "id": "8e9f0e29-4ada-41e8-bc5a-2229b7faeced",
   "metadata": {},
   "outputs": [
    {
     "data": {
      "text/latex": [
       "$\\displaystyle \\frac{a + s}{b^{2} + \\left(a + s\\right)^{2}}$"
      ],
      "text/plain": [
       "(a + s)/(b**2 + (a + s)**2)"
      ]
     },
     "execution_count": 10,
     "metadata": {},
     "output_type": "execute_result"
    }
   ],
   "source": [
    "laplace_transform(exp(-a*t)*cos(b*t), t, s, noconds=True)"
   ]
  }
 ],
 "metadata": {
  "kernelspec": {
   "display_name": "Python 3",
   "language": "python",
   "name": "python3"
  },
  "language_info": {
   "codemirror_mode": {
    "name": "ipython",
    "version": 3
   },
   "file_extension": ".py",
   "mimetype": "text/x-python",
   "name": "python",
   "nbconvert_exporter": "python",
   "pygments_lexer": "ipython3",
   "version": "3.9.1"
  }
 },
 "nbformat": 4,
 "nbformat_minor": 5
}
