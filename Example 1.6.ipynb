{
 "cells": [
  {
   "cell_type": "markdown",
   "metadata": {},
   "source": [
    "# Mean, Variance and Standard Deviation {-}\n",
    "\n",
    "Let $X$ be uniformly distributed in the interval $(0, 2\\pi)$.\n",
    "\n",
    "Compute the mean, variance and standard deviation of $X$:"
   ]
  },
  {
   "cell_type": "code",
   "execution_count": 1,
   "metadata": {},
   "outputs": [
    {
     "name": "stdout",
     "output_type": "stream",
     "text": [
      "Expectation: 3.14 (3.49e-14)\n",
      "Variance: 3.29\n",
      "Standard deviation: 1.81\n"
     ]
    }
   ],
   "source": [
    "from numpy import pi, sqrt\n",
    "from scipy.integrate import quad\n",
    "\n",
    "# Probability density\n",
    "fx = 1/(2*pi)\n",
    "\n",
    "# Expectation\n",
    "EX = quad(lambda x: x*fx, 0, 2*pi)\n",
    "print(\"Expectation: %.2f (%.2e)\" % EX)\n",
    "\n",
    "# Variance\n",
    "VarX = quad(lambda x: x**2*fx, 0, 2*pi)[0] - EX[0]**2\n",
    "print(\"Variance: %.2f\" % VarX)\n",
    "print(\"Standard deviation: %.2f\" % sqrt(VarX))"
   ]
  }
 ],
 "metadata": {
  "kernelspec": {
   "display_name": "Python 3",
   "language": "python",
   "name": "python3"
  },
  "language_info": {
   "codemirror_mode": {
    "name": "ipython",
    "version": 3
   },
   "file_extension": ".py",
   "mimetype": "text/x-python",
   "name": "python",
   "nbconvert_exporter": "python",
   "pygments_lexer": "ipython3",
   "version": "3.9.1"
  }
 },
 "nbformat": 4,
 "nbformat_minor": 4
}
