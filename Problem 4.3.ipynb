{
 "cells": [
  {
   "cell_type": "markdown",
   "metadata": {},
   "source": [
    "# Solution {-}\n",
    "\n",
    "PVA Markov model"
   ]
  },
  {
   "cell_type": "code",
   "execution_count": 1,
   "metadata": {},
   "outputs": [
    {
     "data": {
      "text/latex": [
       "$\\displaystyle \\left[\\begin{matrix}1 & dt & \\frac{dt}{\\beta} - \\frac{1}{\\beta^{2}} + \\frac{e^{- \\beta dt}}{\\beta^{2}}\\\\0 & 1 & \\frac{1}{\\beta} - \\frac{e^{- \\beta dt}}{\\beta}\\\\0 & 0 & e^{- \\beta dt}\\end{matrix}\\right]$"
      ],
      "text/plain": [
       "Matrix([\n",
       "[1, dt, dt/beta - 1/beta**2 + exp(-beta*dt)/beta**2],\n",
       "[0,  1,                 1/beta - exp(-beta*dt)/beta],\n",
       "[0,  0,                               exp(-beta*dt)]])"
      ]
     },
     "execution_count": 1,
     "metadata": {},
     "output_type": "execute_result"
    }
   ],
   "source": [
    "from sympy import Matrix, symbols, sqrt, eye, integrate, inverse_laplace_transform\n",
    "\n",
    "s, dt, beta, q = symbols('s dt beta q', positive=True)\n",
    "\n",
    "F = Matrix([[0, 1, 0],\n",
    "            [0, 0, 1],\n",
    "            [0, 0, -beta]])\n",
    "\n",
    "G = Matrix([[0],\n",
    "            [0],\n",
    "            [sqrt(q)]])\n",
    "\n",
    "phi = inverse_laplace_transform((s*eye(3) - F).inv(), s, dt)\n",
    "phi"
   ]
  },
  {
   "cell_type": "code",
   "execution_count": 2,
   "metadata": {},
   "outputs": [
    {
     "data": {
      "text/latex": [
       "$\\displaystyle \\left[\\begin{matrix}\\frac{dt^{3} q}{3 \\beta^{2}} - \\frac{dt^{2} q}{\\beta^{3}} + \\frac{dt q}{\\beta^{4}} + \\frac{- 4 \\beta^{5} dt q e^{- \\beta dt} - \\beta^{4} q e^{- 2 \\beta dt}}{2 \\beta^{9}} & \\frac{dt^{2} q}{2 \\beta^{2}} - \\frac{dt q}{\\beta^{3}} + \\frac{\\beta^{4} q e^{- 2 \\beta dt} + \\left(2 \\beta^{5} dt q - 2 \\beta^{4} q\\right) e^{- \\beta dt}}{2 \\beta^{8}} & \\frac{- 2 \\beta^{3} dt q e^{- \\beta dt} - \\beta^{2} q e^{- 2 \\beta dt}}{2 \\beta^{5}}\\\\\\frac{dt^{2} q}{2 \\beta^{2}} - \\frac{dt q}{\\beta^{3}} + \\frac{\\beta^{4} q e^{- 2 \\beta dt} + \\left(2 \\beta^{5} dt q - 2 \\beta^{4} q\\right) e^{- \\beta dt}}{2 \\beta^{8}} & \\frac{dt q}{\\beta^{2}} + \\frac{4 \\beta^{3} q e^{- \\beta dt} - \\beta^{3} q e^{- 2 \\beta dt}}{2 \\beta^{6}} & \\frac{- 2 \\beta^{2} q e^{- \\beta dt} + \\beta^{2} q e^{- 2 \\beta dt}}{2 \\beta^{4}}\\\\\\frac{- 2 \\beta^{3} dt q e^{- \\beta dt} - \\beta^{2} q e^{- 2 \\beta dt}}{2 \\beta^{5}} & \\frac{- 2 \\beta^{2} q e^{- \\beta dt} + \\beta^{2} q e^{- 2 \\beta dt}}{2 \\beta^{4}} & - \\frac{q e^{- 2 \\beta dt}}{2 \\beta}\\end{matrix}\\right]$"
      ],
      "text/plain": [
       "Matrix([\n",
       "[dt**3*q/(3*beta**2) - dt**2*q/beta**3 + dt*q/beta**4 + (-4*beta**5*dt*q*exp(-beta*dt) - beta**4*q*exp(-2*beta*dt))/(2*beta**9), dt**2*q/(2*beta**2) - dt*q/beta**3 + (beta**4*q*exp(-2*beta*dt) + (2*beta**5*dt*q - 2*beta**4*q)*exp(-beta*dt))/(2*beta**8), (-2*beta**3*dt*q*exp(-beta*dt) - beta**2*q*exp(-2*beta*dt))/(2*beta**5)],\n",
       "[   dt**2*q/(2*beta**2) - dt*q/beta**3 + (beta**4*q*exp(-2*beta*dt) + (2*beta**5*dt*q - 2*beta**4*q)*exp(-beta*dt))/(2*beta**8),                                          dt*q/beta**2 + (4*beta**3*q*exp(-beta*dt) - beta**3*q*exp(-2*beta*dt))/(2*beta**6),    (-2*beta**2*q*exp(-beta*dt) + beta**2*q*exp(-2*beta*dt))/(2*beta**4)],\n",
       "[                                                       (-2*beta**3*dt*q*exp(-beta*dt) - beta**2*q*exp(-2*beta*dt))/(2*beta**5),                                                        (-2*beta**2*q*exp(-beta*dt) + beta**2*q*exp(-2*beta*dt))/(2*beta**4),                                             -q*exp(-2*beta*dt)/(2*beta)]])"
      ]
     },
     "execution_count": 2,
     "metadata": {},
     "output_type": "execute_result"
    }
   ],
   "source": [
    "# Process noise\n",
    "Q = integrate(phi@G@G.T@phi.T, dt)\n",
    "Q"
   ]
  },
  {
   "cell_type": "code",
   "execution_count": 3,
   "metadata": {},
   "outputs": [
    {
     "name": "stdout",
     "output_type": "stream",
     "text": [
      "[[1.         0.1        0.00496683]\n",
      " [0.         1.         0.09900663]\n",
      " [0.         0.         0.98019867]]\n",
      "[[4.94483906e-06 1.23347134e-04 1.63369713e-03]\n",
      " [1.23347134e-04 3.28379669e-03 4.90115674e-02]\n",
      " [1.63369713e-03 4.90115674e-02 9.80264021e-01]]\n"
     ]
    }
   ],
   "source": [
    "from numpy import array, sqrt\n",
    "from lib.vanloan import numeval\n",
    "\n",
    "# System conditions\n",
    "dt = 0.1\n",
    "beta = 0.2\n",
    "q = 10\n",
    "\n",
    "F = array([[0, 1, 0],\n",
    "           [0, 0, 1],\n",
    "           [0, 0, -beta]])\n",
    "\n",
    "G = array([[0],\n",
    "           [0],\n",
    "           [sqrt(q)]])\n",
    "\n",
    "# Numerical evaulation\n",
    "[phi, Q] = numeval(F, G, dt)\n",
    "\n",
    "# Transition matrix\n",
    "print(phi)\n",
    "\n",
    "# Process noise covariance matrix\n",
    "print(Q)"
   ]
  }
 ],
 "metadata": {
  "kernelspec": {
   "display_name": "Python 3",
   "language": "python",
   "name": "python3"
  },
  "language_info": {
   "codemirror_mode": {
    "name": "ipython",
    "version": 3
   },
   "file_extension": ".py",
   "mimetype": "text/x-python",
   "name": "python",
   "nbconvert_exporter": "python",
   "pygments_lexer": "ipython3",
   "version": "3.9.1"
  }
 },
 "nbformat": 4,
 "nbformat_minor": 4
}
