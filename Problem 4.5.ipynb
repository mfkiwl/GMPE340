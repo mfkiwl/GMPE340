{
 "cells": [
  {
   "cell_type": "markdown",
   "metadata": {},
   "source": [
    "# Solution {-}\n",
    "\n",
    "Stationary Gaussian random process"
   ]
  },
  {
   "cell_type": "code",
   "execution_count": 1,
   "metadata": {},
   "outputs": [
    {
     "data": {
      "text/latex": [
       "$\\displaystyle - \\frac{\\left(s - 1\\right) \\left(s + 1\\right)}{\\left(s - 4\\right) \\left(s - 2\\right) \\left(s + 2\\right) \\left(s + 4\\right)}$"
      ],
      "text/plain": [
       "-(s - 1)*(s + 1)/((s - 4)*(s - 2)*(s + 2)*(s + 4))"
      ]
     },
     "execution_count": 1,
     "metadata": {},
     "output_type": "execute_result"
    }
   ],
   "source": [
    "from sympy import symbols, factor\n",
    "\n",
    "s = symbols('s')\n",
    "\n",
    "Sy = factor((-s**2 + 1)/((-s**2)**2 + 20*(-s**2) + 64))\n",
    "Sy"
   ]
  },
  {
   "cell_type": "code",
   "execution_count": 2,
   "metadata": {},
   "outputs": [
    {
     "data": {
      "text/latex": [
       "$\\displaystyle \\frac{s + 1}{s^{2} + 6 s + 8}$"
      ],
      "text/plain": [
       "(s + 1)/(s**2 + 6*s + 8)"
      ]
     },
     "execution_count": 2,
     "metadata": {},
     "output_type": "execute_result"
    }
   ],
   "source": [
    "Gs = (s + 1)/(s**2 + 6*s + 8)\n",
    "Gs"
   ]
  },
  {
   "cell_type": "markdown",
   "metadata": {},
   "source": [
    "Let the KF state vector consist of the phase variables, i.e. $r$ and $\\dot{r}$.\n",
    "\n",
    "The the KF measurement equation will be:\n",
    "\\begin{equation}\n",
    "  z=\n",
    "  \\begin{bmatrix}\n",
    "    1 &1 \\\\\n",
    "  \\end{bmatrix}\n",
    "  \\begin{bmatrix}\n",
    "    r\\\\\n",
    "    \\dot{r}\\\\\n",
    "  \\end{bmatrix}\n",
    "  + v\n",
    "\\end{equation}\n",
    "\n",
    "wiht the corresponding scalar differential equation is given as:\n",
    "\\begin{equation}\n",
    "  \\ddot{r} + 6\\dot{r} + 8 = u(t)\n",
    "\\end{equation}\n",
    "\n",
    "\\begin{equation}\n",
    "  \\begin{bmatrix}\n",
    "    \\dot{r}\\\\\n",
    "    \\ddot{r}\\\\\n",
    "  \\end{bmatrix}\n",
    "  =\n",
    "  \\begin{bmatrix}\n",
    "     0 & 1 \\\\\n",
    "    -8 &-6 \\\\\n",
    "  \\end{bmatrix}\n",
    "  \\begin{bmatrix}\n",
    "    r\\\\\n",
    "    \\dot{r}\\\\\n",
    "  \\end{bmatrix}\n",
    "  +\n",
    "  \\begin{bmatrix}\n",
    "    0\\\\\n",
    "    1\\\\\n",
    "  \\end{bmatrix}\n",
    "  u(t)\n",
    "\\end{equation}"
   ]
  }
 ],
 "metadata": {
  "kernelspec": {
   "display_name": "Python 3",
   "language": "python",
   "name": "python3"
  },
  "language_info": {
   "codemirror_mode": {
    "name": "ipython",
    "version": 3
   },
   "file_extension": ".py",
   "mimetype": "text/x-python",
   "name": "python",
   "nbconvert_exporter": "python",
   "pygments_lexer": "ipython3",
   "version": "3.9.1"
  }
 },
 "nbformat": 4,
 "nbformat_minor": 4
}
