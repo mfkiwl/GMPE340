{
 "cells": [
  {
   "cell_type": "markdown",
   "metadata": {},
   "source": [
    "# Solution {-}\n",
    "\n",
    "The stationary process $X(t)$ has an autocorrelation function of the form:\n",
    "\n",
    "\\begin{equation}\n",
    "  R_X(t) = \\sigma^2 e^{-\\beta|\\tau|}\n",
    "\\end{equation}\n",
    "\n",
    "Another process $Y(t)$ is related to $X(t)$ by the deterministic equation:\n",
    "\n",
    "\\begin{equation}\n",
    "  Y(t) = aX(t) + b\n",
    "\\end{equation}\n",
    "\n",
    "\n",
    "$X(t)$ is stationary, so Y(t) is also stationary.\n",
    "\n",
    "\\begin{align}\n",
    "  R_Y(t) =& E[Y(t) \\cdot Y (t + \\tau)] \\\\\n",
    "         =& E[(aX(t) + b)(aX(t + \\tau) + b)] \\\\\n",
    "         =& E[(a^2 X(t)X(t + \\tau)] + E[abX(t)] + E[baX(t)] + E[b^2] \\\\\n",
    "         =& a^2 R_X(t) + b^2 \\\\\n",
    "         =& a^2 \\sigma^2 e^{-\\beta|\\tau|} + b^2 \\\\\n",
    "\\end{align}"
   ]
  }
 ],
 "metadata": {
  "kernelspec": {
   "display_name": "Python 3",
   "language": "python",
   "name": "python3"
  },
  "language_info": {
   "codemirror_mode": {
    "name": "ipython",
    "version": 3
   },
   "file_extension": ".py",
   "mimetype": "text/x-python",
   "name": "python",
   "nbconvert_exporter": "python",
   "pygments_lexer": "ipython3",
   "version": "3.9.1"
  }
 },
 "nbformat": 4,
 "nbformat_minor": 4
}
