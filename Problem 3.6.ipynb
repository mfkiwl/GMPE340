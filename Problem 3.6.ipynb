{
 "cells": [
  {
   "cell_type": "markdown",
   "id": "5b62d2f4-6096-465a-bfc1-b0ff3b07c1e9",
   "metadata": {},
   "source": [
    "# Solution {-}\n",
    "Factor spectral density function $S(s)$:"
   ]
  },
  {
   "cell_type": "code",
   "execution_count": 1,
   "id": "ed26c3ff-97ed-4175-9164-8de6bee93303",
   "metadata": {},
   "outputs": [
    {
     "data": {
      "text/latex": [
       "$\\displaystyle \\frac{1 - s^{2}}{s^{4} - 8 s^{2} + 16}$"
      ],
      "text/plain": [
       "(1 - s**2)/(s**4 - 8*s**2 + 16)"
      ]
     },
     "execution_count": 1,
     "metadata": {},
     "output_type": "execute_result"
    }
   ],
   "source": [
    "from sympy import symbols, factor\n",
    "\n",
    "s = symbols('s')\n",
    "\n",
    "S = (-s**2 + 1)/(s**4 - 8*s**2 + 16)\n",
    "S"
   ]
  },
  {
   "cell_type": "code",
   "execution_count": 2,
   "id": "6718c3c3-51de-40be-8346-f3b8a39bbfbc",
   "metadata": {},
   "outputs": [
    {
     "data": {
      "text/latex": [
       "$\\displaystyle - \\frac{\\left(s - 1\\right) \\left(s + 1\\right)}{\\left(s - 2\\right)^{2} \\left(s + 2\\right)^{2}}$"
      ],
      "text/plain": [
       "-(s - 1)*(s + 1)/((s - 2)**2*(s + 2)**2)"
      ]
     },
     "execution_count": 2,
     "metadata": {},
     "output_type": "execute_result"
    }
   ],
   "source": [
    "factor(S, s)"
   ]
  }
 ],
 "metadata": {
  "kernelspec": {
   "display_name": "Python 3",
   "language": "python",
   "name": "python3"
  },
  "language_info": {
   "codemirror_mode": {
    "name": "ipython",
    "version": 3
   },
   "file_extension": ".py",
   "mimetype": "text/x-python",
   "name": "python",
   "nbconvert_exporter": "python",
   "pygments_lexer": "ipython3",
   "version": "3.9.1"
  }
 },
 "nbformat": 4,
 "nbformat_minor": 5
}
