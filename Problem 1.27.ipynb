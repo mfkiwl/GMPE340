{
 "cells": [
  {
   "cell_type": "markdown",
   "metadata": {},
   "source": [
    "# Solution {-}\n",
    "\n",
    "A random variable $X$ has a propability function as follows:\n",
    "\n",
    "\\begin{equation*}\n",
    "  f_X(x)=\n",
    "  \\begin{cases}\n",
    "    \\frac{1}{2}, &-1\\leq x \\leq 1 \\\\\n",
    "    0, &\\text{otherwise} \\\\\n",
    "  \\end{cases}\n",
    "\\end{equation*}\n",
    "\n",
    "Random variable $Y$ is related to $X$ through the equation:\n",
    "\\begin{equation*}\n",
    "  y=x^3+1\n",
    "\\end{equation*}\n",
    "\n",
    "According to (1.13.6) we have the following relationship between $f_X(x)$ and $f_Y(y)$:\n",
    "\n",
    "\\begin{equation*}\n",
    "  f_Y(y)dx=|\\frac{dx}{dy}|f_X(h(y))\n",
    "\\end{equation*}\n",
    "\n",
    "Thus we can now write:\n",
    "\n",
    "\\begin{equation*}\n",
    "  |\\frac{dx}{dy}|=\\frac{1}{3}(y-1)^{-\\frac{2}{3}}\n",
    "\\end{equation*}\n",
    "\n",
    "\\begin{equation*}\n",
    "  f_Y(y)=\n",
    "  \\begin{cases}\n",
    "    \\frac{1}{6}(y-1)^{-\\frac{2}{3}}, &0 \\leq y \\leq 2 \\\\\n",
    "    0, &\\text{otherwise}\n",
    "  \\end{cases}\n",
    "\\end{equation*}\n"
   ]
  }
 ],
 "metadata": {
  "kernelspec": {
   "display_name": "Python 3",
   "language": "python",
   "name": "python3"
  },
  "language_info": {
   "codemirror_mode": {
    "name": "ipython",
    "version": 3
   },
   "file_extension": ".py",
   "mimetype": "text/x-python",
   "name": "python",
   "nbconvert_exporter": "python",
   "pygments_lexer": "ipython3",
   "version": "3.9.1"
  }
 },
 "nbformat": 4,
 "nbformat_minor": 4
}
