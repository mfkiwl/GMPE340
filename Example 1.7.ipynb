{
 "cells": [
  {
   "cell_type": "markdown",
   "metadata": {},
   "source": [
    "# Normal distribution\n",
    "\n",
    "Given normal density and distribution functions for N(0,1)\n",
    "\n",
    "\\begin{equation}\n",
    "  f_X(x)=\\frac{1}{\\sqrt{2\\pi}}e^{-x^2/2}\n",
    "\\end{equation}\n",
    "\n",
    "\\begin{equation}\n",
    "  F_X(x)=\\int_\\infty^x \\frac{1}{\\sqrt{2\\pi}}e^{-u^2/2}du\n",
    "\\end{equation}\n",
    "\n",
    "What is the probability that $4.0 < x < 4.5$?"
   ]
  },
  {
   "cell_type": "code",
   "execution_count": 1,
   "metadata": {},
   "outputs": [
    {
     "name": "stdout",
     "output_type": "stream",
     "text": [
      "Probability from table: 0.000029\n"
     ]
    }
   ],
   "source": [
    "print(\"Probability from table: %.6f\" % (0.999997 - 0.999968))"
   ]
  },
  {
   "cell_type": "code",
   "execution_count": 2,
   "metadata": {},
   "outputs": [
    {
     "name": "stdout",
     "output_type": "stream",
     "text": [
      "Probability from integration: 0.000028 (3.14e-19)\n"
     ]
    }
   ],
   "source": [
    "from numpy import pi, sqrt, exp\n",
    "from scipy.integrate import quad\n",
    "\n",
    "fx = lambda x: 1/sqrt(2*pi)*exp(-x**2/2)\n",
    "prob = quad(fx, 4, 4.5)\n",
    "print(\"Probability from integration: %.6f (%.2e)\" % prob)"
   ]
  }
 ],
 "metadata": {
  "kernelspec": {
   "display_name": "Python 3",
   "language": "python",
   "name": "python3"
  },
  "language_info": {
   "codemirror_mode": {
    "name": "ipython",
    "version": 3
   },
   "file_extension": ".py",
   "mimetype": "text/x-python",
   "name": "python",
   "nbconvert_exporter": "python",
   "pygments_lexer": "ipython3",
   "version": "3.9.1"
  }
 },
 "nbformat": 4,
 "nbformat_minor": 4
}
