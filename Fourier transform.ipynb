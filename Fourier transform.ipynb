{
 "cells": [
  {
   "cell_type": "code",
   "execution_count": 1,
   "id": "32941314-3b2e-469e-a7b9-3e49321d4538",
   "metadata": {},
   "outputs": [
    {
     "data": {
      "text/latex": [
       "$\\displaystyle 1$"
      ],
      "text/plain": [
       "1"
      ]
     },
     "execution_count": 1,
     "metadata": {},
     "output_type": "execute_result"
    }
   ],
   "source": [
    "from sympy import symbols, fourier_transform, sinc, pi,\\\n",
    "                  DiracDelta, Heaviside, exp, sin, cos\n",
    "\n",
    "w, t = symbols('omega t')\n",
    "a, b, W, T = symbols('a b W T', positive=True)\n",
    "\n",
    "fourier_transform(DiracDelta(t), t, w)"
   ]
  },
  {
   "cell_type": "code",
   "execution_count": 2,
   "id": "f264cd46-e9d8-4e98-ada8-4a8b26efd14d",
   "metadata": {},
   "outputs": [
    {
     "data": {
      "text/latex": [
       "$\\displaystyle \\frac{\\sin{\\left(\\pi T \\omega \\right)}}{\\pi \\omega}$"
      ],
      "text/plain": [
       "sin(pi*T*omega)/(pi*omega)"
      ]
     },
     "execution_count": 2,
     "metadata": {},
     "output_type": "execute_result"
    }
   ],
   "source": [
    "fourier_transform(Heaviside(t + T/2) - Heaviside(t - T/2), t, w)"
   ]
  },
  {
   "cell_type": "code",
   "execution_count": 3,
   "id": "776db34c-7f88-4246-9b88-d7d9b6e7f2a4",
   "metadata": {},
   "outputs": [
    {
     "data": {
      "text/latex": [
       "$\\displaystyle \\begin{cases} \\frac{1}{2 W} & \\text{for}\\: \\frac{W^{2}}{\\left|{\\omega^{2}}\\right|} > 1 \\\\0 & \\text{otherwise} \\end{cases}$"
      ],
      "text/plain": [
       "Piecewise((1/(2*W), W**2/Abs(omega**2) > 1), (0, True))"
      ]
     },
     "execution_count": 3,
     "metadata": {},
     "output_type": "execute_result"
    }
   ],
   "source": [
    "fourier_transform(sinc(2*pi*W*t), t, w)"
   ]
  },
  {
   "cell_type": "code",
   "execution_count": 4,
   "id": "e3c965aa-f467-4fde-b0b1-a76809fd60de",
   "metadata": {},
   "outputs": [
    {
     "data": {
      "text/latex": [
       "$\\displaystyle \\frac{\\sqrt{\\pi} e^{- \\frac{\\pi^{2} \\omega^{2}}{a^{2}}}}{a}$"
      ],
      "text/plain": [
       "sqrt(pi)*exp(-pi**2*omega**2/a**2)/a"
      ]
     },
     "execution_count": 4,
     "metadata": {},
     "output_type": "execute_result"
    }
   ],
   "source": [
    "fourier_transform(exp(-a**2*t**2), t, w)"
   ]
  }
 ],
 "metadata": {
  "kernelspec": {
   "display_name": "Python 3",
   "language": "python",
   "name": "python3"
  },
  "language_info": {
   "codemirror_mode": {
    "name": "ipython",
    "version": 3
   },
   "file_extension": ".py",
   "mimetype": "text/x-python",
   "name": "python",
   "nbconvert_exporter": "python",
   "pygments_lexer": "ipython3",
   "version": "3.9.1"
  }
 },
 "nbformat": 4,
 "nbformat_minor": 5
}
